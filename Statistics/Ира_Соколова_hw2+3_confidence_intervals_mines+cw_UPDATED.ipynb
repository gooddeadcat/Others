{
 "cells": [
  {
   "cell_type": "markdown",
   "metadata": {
    "toc": true
   },
   "source": [
    "<h1>Table of Contents<span class=\"tocSkip\"></span></h1>\n",
    "<div class=\"toc\"><ul class=\"toc-item\"><li><ul class=\"toc-item\"><li><span><a href=\"#Данные\" data-toc-modified-id=\"Данные-0.1\">Данные</a></span></li></ul></li><li><span><a href=\"#Правило-3-сигм\" data-toc-modified-id=\"Правило-3-сигм-1\">Правило 3 сигм</a></span></li><li><span><a href=\"#Аварии-на-шахтах\" data-toc-modified-id=\"Аварии-на-шахтах-2\">Аварии на шахтах</a></span><ul class=\"toc-item\"><li><span><a href=\"#Точечная-оценка-и-асимптотический-Д.И.\" data-toc-modified-id=\"Точечная-оценка-и-асимптотический-Д.И.-2.1\">Точечная оценка и асимптотический Д.И.</a></span></li><li><span><a href=\"#Число-катастроф\" data-toc-modified-id=\"Число-катастроф-2.2\">Число катастроф</a></span></li><li><span><a href=\"#Дельта-метод\" data-toc-modified-id=\"Дельта-метод-2.3\">Дельта-метод</a></span></li></ul></li><li><span><a href=\"#Контрольная-работа\" data-toc-modified-id=\"Контрольная-работа-3\">Контрольная работа</a></span><ul class=\"toc-item\"><li><span><a href=\"#Распределение-результатов-контрольной\" data-toc-modified-id=\"Распределение-результатов-контрольной-3.1\">Распределение результатов контрольной</a></span></li><li><span><a href=\"#Д.И.-для-среднего\" data-toc-modified-id=\"Д.И.-для-среднего-3.2\">Д.И. для среднего</a></span></li><li><span><a href=\"#Хорошие-и-плохие-студенты\" data-toc-modified-id=\"Хорошие-и-плохие-студенты-3.3\">Хорошие и плохие студенты</a></span></li><li><span><a href=\"#Д.И.-для-дисперсии\" data-toc-modified-id=\"Д.И.-для-дисперсии-3.4\">Д.И. для дисперсии</a></span></li><li><span><a href=\"#Доля-написавших-третью-контрольную\" data-toc-modified-id=\"Доля-написавших-третью-контрольную-3.5\">Доля написавших третью контрольную</a></span></li><li><span><a href=\"#Снова-разница-средних\" data-toc-modified-id=\"Снова-разница-средних-3.6\">Снова разница средних</a></span></li></ul></li></ul></div>"
   ]
  },
  {
   "cell_type": "markdown",
   "metadata": {
    "id": "57S3g2cioIJB"
   },
   "source": [
    "## Данные\n",
    "\n",
    "Все датасеты лежат [тут](https://drive.google.com/open?id=1-psTZYeGvnr7UKt77X3D271N5BzNRxzZ)\n",
    "\n",
    "Можно скачать эту папку, положить в соседнюю папку с рабочими ноутбуками и указать соответствующий путь `'../data/something.csv'`"
   ]
  },
  {
   "cell_type": "markdown",
   "metadata": {
    "id": "lMdUh3wLKM3-"
   },
   "source": [
    "# Правило 3 сигм"
   ]
  },
  {
   "cell_type": "markdown",
   "metadata": {
    "id": "lUJvkitvJ9lV"
   },
   "source": [
    "В этом упражнении мы обсудим правила двух и трех сигм для произвольной случайной величины. \n",
    "\n",
    "Пусть $X$ имеет некоторое распределение с математическим ожиданием $E[X] = a$ и конечной дисперсией $var(X) = \\sigma^2 < \\infty$. \n",
    "\n",
    "С помощью неравенства Чебышёва покажите, с какой вероятностью эта случайная величина лежит в отрезках $[a − 2\\sigma, a + 2\\sigma]$ и $[a − 3\\sigma, a + 3\\sigma]$. \n",
    "\n",
    "Сравните полученные вероятности с соответствующими вероятностями для стандартного нормального распределения $N (0, 1)$. Какой вывод можно сделать?"
   ]
  },
  {
   "cell_type": "code",
   "execution_count": null,
   "metadata": {
    "id": "xWbdyjwZ1q-T"
   },
   "outputs": [],
   "source": [
    "import numpy as np\n",
    "import pandas as pd\n",
    "\n",
    "from scipy import stats\n",
    "\n",
    "import seaborn as sns\n",
    "import matplotlib.pyplot as plt\n",
    "\n",
    "plt.style.use('ggplot')"
   ]
  },
  {
   "cell_type": "code",
   "execution_count": null,
   "metadata": {
    "colab": {
     "base_uri": "https://localhost:8080/"
    },
    "id": "K-W2KQH3Ne5g",
    "outputId": "efda16ca-6daa-48b8-cde2-ef5de9eb93b3"
   },
   "outputs": [
    {
     "name": "stdout",
     "output_type": "stream",
     "text": [
      "P(|X-E[X]|<1*std[X]) >  0.0\n",
      "P(|X-E[X]|<2*std[X]) >  0.75\n",
      "P(|X-E[X]|<3*std[X]) >  0.8888888888888888\n"
     ]
    }
   ],
   "source": [
    "# можно заполрнить ... формулой\n",
    "for s in range(1,4):\n",
    "    prob = ...\n",
    "    print(f'P(|X-E[X]|<{s}*std[X]) > ', prob)"
   ]
  },
  {
   "cell_type": "code",
   "execution_count": null,
   "metadata": {
    "colab": {
     "base_uri": "https://localhost:8080/"
    },
    "id": "9hucRFQGyRO6",
    "outputId": "9638127d-276f-4510-cdca-dac9937fd0a0"
   },
   "outputs": [
    {
     "name": "stdout",
     "output_type": "stream",
     "text": [
      "P(|X-E[X]|<1*var[X]) =  0.6826894921370859\n",
      "P(|X-E[X]|<2*var[X]) =  0.9544997361036416\n",
      "P(|X-E[X]|<3*var[X]) =  0.9973002039367398\n"
     ]
    }
   ],
   "source": [
    "for s in range(1,4):\n",
    "    prob = ...\n",
    "    print(f'P(|X-E[X]|<{s}*var[X]) = ', prob)"
   ]
  },
  {
   "cell_type": "markdown",
   "metadata": {
    "id": "a-JZq-84dlx5"
   },
   "source": [
    "# Аварии на шахтах"
   ]
  },
  {
   "cell_type": "markdown",
   "metadata": {
    "deletable": false,
    "editable": false,
    "id": "5M7DfLY9daJe",
    "nbgrader": {
     "cell_type": "markdown",
     "checksum": "80970bc9f21db2cc2cf85d64c918e72a",
     "grade": false,
     "grade_id": "cell-75d58b9b3f8d9f28",
     "locked": true,
     "schema_version": 3,
     "solution": false,
     "task": false
    }
   },
   "source": [
    "На угольных шахтах ежегодно происходят аварии. Англия довольно давно собирает информацию о числе крупных аварий. Именно её нам предстоит проанализировать:\n",
    "\n",
    "* хочется понять как часто в среднем происходят аварии \n",
    "* насколько большой у среднего числа аварий доверительный интервал"
   ]
  },
  {
   "cell_type": "code",
   "execution_count": null,
   "metadata": {
    "id": "FGrQP8YqdaJf",
    "outputId": "04a4f13b-5e50-48d4-e604-fb9687552c33"
   },
   "outputs": [
    {
     "data": {
      "text/html": [
       "<div>\n",
       "<style scoped>\n",
       "    .dataframe tbody tr th:only-of-type {\n",
       "        vertical-align: middle;\n",
       "    }\n",
       "\n",
       "    .dataframe tbody tr th {\n",
       "        vertical-align: top;\n",
       "    }\n",
       "\n",
       "    .dataframe thead th {\n",
       "        text-align: right;\n",
       "    }\n",
       "</style>\n",
       "<table border=\"1\" class=\"dataframe\">\n",
       "  <thead>\n",
       "    <tr style=\"text-align: right;\">\n",
       "      <th></th>\n",
       "      <th>year</th>\n",
       "      <th>count</th>\n",
       "    </tr>\n",
       "  </thead>\n",
       "  <tbody>\n",
       "    <tr>\n",
       "      <th>1</th>\n",
       "      <td>1851</td>\n",
       "      <td>4</td>\n",
       "    </tr>\n",
       "    <tr>\n",
       "      <th>2</th>\n",
       "      <td>1852</td>\n",
       "      <td>5</td>\n",
       "    </tr>\n",
       "    <tr>\n",
       "      <th>3</th>\n",
       "      <td>1853</td>\n",
       "      <td>4</td>\n",
       "    </tr>\n",
       "    <tr>\n",
       "      <th>4</th>\n",
       "      <td>1854</td>\n",
       "      <td>1</td>\n",
       "    </tr>\n",
       "    <tr>\n",
       "      <th>5</th>\n",
       "      <td>1855</td>\n",
       "      <td>0</td>\n",
       "    </tr>\n",
       "  </tbody>\n",
       "</table>\n",
       "</div>"
      ],
      "text/plain": [
       "   year  count\n",
       "1  1851      4\n",
       "2  1852      5\n",
       "3  1853      4\n",
       "4  1854      1\n",
       "5  1855      0"
      ]
     },
     "execution_count": 11,
     "metadata": {},
     "output_type": "execute_result"
    }
   ],
   "source": [
    "df = pd.read_csv(\"../data/coals.csv\", index_col=0)\n",
    "df.head()"
   ]
  },
  {
   "cell_type": "markdown",
   "metadata": {
    "deletable": false,
    "editable": false,
    "id": "pW4FqTJ-daJg",
    "nbgrader": {
     "cell_type": "markdown",
     "checksum": "250e18d302d16fb1e7626720133789aa",
     "grade": false,
     "grade_id": "cell-71d1eaf34ae3f8a6",
     "locked": true,
     "schema_version": 3,
     "solution": false,
     "task": false
    }
   },
   "source": [
    "В колонке `year` находится год наблюдений. В колонке `count` число аварий за этот год на шахтах в Англии. Посмотрим на распределение числа аварий. "
   ]
  },
  {
   "cell_type": "code",
   "execution_count": null,
   "metadata": {
    "id": "KtcIUZB9daJg",
    "outputId": "932049df-493d-40b3-aa20-9d7219675919"
   },
   "outputs": [
    {
     "data": {
      "image/png": "[encoded data removed]",
      "text/plain": [
       "<Figure size 432x288 with 1 Axes>"
      ]
     },
     "metadata": {},
     "output_type": "display_data"
    }
   ],
   "source": [
    "df['count'].hist(bins=30);"
   ]
  },
  {
   "cell_type": "markdown",
   "metadata": {
    "id": "dKFFS718gT01"
   },
   "source": [
    "## Точечная оценка и асимптотический Д.И."
   ]
  },
  {
   "cell_type": "markdown",
   "metadata": {
    "deletable": false,
    "editable": false,
    "id": "YgW1tke7daJh",
    "nbgrader": {
     "cell_type": "markdown",
     "checksum": "93cd51081378129d848714a7563024ff",
     "grade": false,
     "grade_id": "cell-8f81fc0ac935f974",
     "locked": true,
     "schema_version": 3,
     "solution": false,
     "task": false
    }
   },
   "source": [
    "Судя по гистограмме уместно предположить, что число аварий имеет распределение Пуассона, $Poiss(\\lambda)$.  То есть, если мы хотим что-то понять про среднее число аварий, нам надо оценить параметр $\\lambda$. \n",
    "\n",
    "__Точечная оценка__\n",
    "\n",
    "Найдите оценку параметра $\\lambda$ с помощью метода моментов и метода максимального правдоподобия. Запишите получившийся результат в переменную `lambda_hat`.\n",
    "\n",
    "__Стандартное отклонение__ \n",
    "\n",
    "Среднее, оценённое методом моментов будет иметь асимптотически нормальное распределение. Оцените стандартное отклонение этого распределения по выборке и запишите ответ в переменную `lam_se`. \n",
    "\n",
    "> __Примечание:__ мы предполагаем, что выборка пришла из распределения Пуассона. Для него $Var(X) = \\lambda$. Для оценки стандартного отклонения используйте этот факт. \n",
    "\n",
    "__Доверительный интервал__ \n",
    "\n",
    "Постройте для неизвестного математического ожидания $\\lambda$ доверительный интервал. Возьмите уровень значимости равный $10\\%$. В переменные `left` и `right` запишите соотвествующие границы интервала. В переменную `delta` запишите его ширину."
   ]
  },
  {
   "cell_type": "code",
   "execution_count": null,
   "metadata": {
    "deletable": false,
    "id": "9flvAOpJdaJi",
    "nbgrader": {
     "cell_type": "code",
     "checksum": "6049e41ea6548d69159f2393c9925ae4",
     "grade": false,
     "grade_id": "cell-a4673b56f9be221f",
     "locked": false,
     "schema_version": 3,
     "solution": true,
     "task": false
    },
    "outputId": "b2c309f3-79a1-41c9-87dc-0e2b07cf18ca"
   },
   "outputs": [
    {
     "name": "stdout",
     "output_type": "stream",
     "text": [
      "1.502389916114217 1.9083243696000687\n"
     ]
    }
   ],
   "source": [
    "# число наблюдений \n",
    "n_hat = ...\n",
    "\n",
    "# ваша оценка метода моментов для лямбды\n",
    "lam_hat = ...\n",
    "\n",
    "# ваша оценка для ст. отклонения\n",
    "lam_se = ...\n",
    "\n",
    "# уровень значимости\n",
    "alpha = ...\n",
    "\n",
    "# квантиль норм. распределения\n",
    "z = ...\n",
    "\n",
    "# левая граница дов. интервала\n",
    "left = ...\n",
    "\n",
    "# правая граница дов. интервала\n",
    "right = ...\n",
    "\n",
    "# ширина дов. интервала\n",
    "delta = ...\n",
    "\n",
    "print(left, right)\n",
    "\n",
    "# проверка, что границы доверительного интервала найдены верно\n",
    "assert np.abs(left - 1.502389916114217) < 1e-5"
   ]
  },
  {
   "cell_type": "markdown",
   "metadata": {
    "deletable": false,
    "editable": false,
    "id": "HWW8dRNfdaJm",
    "nbgrader": {
     "cell_type": "markdown",
     "checksum": "4d631c3f9d5ebeb5d67e62d85a83ed08",
     "grade": false,
     "grade_id": "cell-bf0ff017e366f60d",
     "locked": true,
     "schema_version": 3,
     "solution": false,
     "task": false
    }
   },
   "source": [
    "## Число катастроф\n",
    "\n",
    "Многие говорят, что в $20$ веке катастроф стало на порядок меньше. Давайте проверим это. Постройте оценку для $\\lambda_1$ по данным до $1900$ года включительно. Постройте оценку для $\\lambda_2$ по данным после $1900$ года. Для разности $\\lambda_1 - \\lambda_2$ постройте $95\\%$ доверительный интервал. "
   ]
  },
  {
   "cell_type": "markdown",
   "metadata": {
    "deletable": false,
    "editable": false,
    "id": "Bppp-jRFdaJn",
    "nbgrader": {
     "cell_type": "markdown",
     "checksum": "283692227b153b139be90a29fc9d61d5",
     "grade": false,
     "grade_id": "cell-856039d3919cfd24",
     "locked": true,
     "schema_version": 3,
     "solution": false,
     "task": false
    }
   },
   "source": [
    "Ноль не вошёл в этот доверительный интервал. Это означает, что на уровне значимости $5\\%$ мы можем сказать, что число аварий правда снизилось. "
   ]
  },
  {
   "cell_type": "code",
   "execution_count": null,
   "metadata": {
    "deletable": false,
    "id": "-iuBje9jdaJm",
    "nbgrader": {
     "cell_type": "code",
     "checksum": "acbbeb4a6bf1695cf002916cf371973b",
     "grade": false,
     "grade_id": "cell-a52534c295035fea",
     "locked": false,
     "schema_version": 3,
     "solution": true,
     "task": false
    },
    "outputId": "e99805c2-48d8-4b9d-9823-c930a55b2c7d"
   },
   "outputs": [
    {
     "name": "stdout",
     "output_type": "stream",
     "text": [
      "1.2835473859716393 2.3100010011251353\n"
     ]
    }
   ],
   "source": [
    "x = df[df.year <= 1900]['count']\n",
    "y = df[df.year > 1900]['count']\n",
    "\n",
    "alpha = ...\n",
    "z = ...\n",
    "\n",
    "dif = ...\n",
    "std = ...\n",
    "\n",
    "left = ...\n",
    "right = ...\n",
    "delta = ...\n",
    "\n",
    "print(left, right)\n",
    "\n",
    "# проверка, что границы доверительного интервала найдены верно\n",
    "assert x.size == 50\n",
    "assert np.abs(left - 1.2835473859716393) < 1e-5"
   ]
  },
  {
   "cell_type": "markdown",
   "metadata": {
    "id": "NaUS12T_gCx8"
   },
   "source": [
    "## Дельта-метод"
   ]
  },
  {
   "cell_type": "markdown",
   "metadata": {
    "id": "hORKoDjYdaJn"
   },
   "source": [
    "__Вероятность для распределения Пуассона__ \n",
    "\n",
    "Вспомните формулу, по которой считается вероятность того, что Пуассоновская случайная величина примет какое-то значение. Найдите точечную оценку вероятности того, что произойдёт только одна авария. В качестве $\\lambda$ используйте оценку метода моментов, полученную в первом задании. "
   ]
  },
  {
   "cell_type": "code",
   "execution_count": null,
   "metadata": {
    "deletable": false,
    "id": "_l4zb88RdaJn",
    "nbgrader": {
     "cell_type": "code",
     "checksum": "677de3c04a3c8f7acc00e08729a9999a",
     "grade": false,
     "grade_id": "cell-1383c35748bfed27",
     "locked": false,
     "schema_version": 3,
     "solution": true,
     "task": false
    }
   },
   "outputs": [],
   "source": [
    "from scipy.special import factorial\n",
    "def poiss_prob(k, lam_hat=lam_hat):\n",
    "    # your code here\n",
    "    return ...\n",
    "\n",
    "# проверка функции\n",
    "assert np.abs(poiss_prob(1) - 0.3098761) < 1e-5"
   ]
  },
  {
   "cell_type": "markdown",
   "metadata": {
    "deletable": false,
    "editable": false,
    "id": "VBsjUWMrdaJo",
    "nbgrader": {
     "cell_type": "markdown",
     "checksum": "7f2badfbccaaf93be8606789c37481f9",
     "grade": false,
     "grade_id": "cell-0e3a31dfc730da6f",
     "locked": true,
     "schema_version": 3,
     "solution": false,
     "task": false
    }
   },
   "source": [
    "__Дельта-метод__ \n",
    "\n",
    "Та вероятность, которую мы нашли в предыдущем пункте - это лишь точечная оценка. Она является функцией от среднего. С помощью дельта-метода постройте для этой вероятности $95\\%$ довертельный интервал."
   ]
  },
  {
   "cell_type": "code",
   "execution_count": null,
   "metadata": {
    "deletable": false,
    "id": "BZDA5T_xdaJo",
    "nbgrader": {
     "cell_type": "code",
     "checksum": "25bd6905ed924461b79cea1e154754a2",
     "grade": false,
     "grade_id": "cell-cd0a438c7adffcdb",
     "locked": false,
     "schema_version": 3,
     "solution": true,
     "task": false
    },
    "outputId": "e9ece9ff-c98b-4dd8-d99d-9f46787534eb"
   },
   "outputs": [
    {
     "name": "stdout",
     "output_type": "stream",
     "text": [
      "0.27887850777625484 0.34087378686549136\n"
     ]
    }
   ],
   "source": [
    "def poiss_prob_der2(k, lam_hat=lam_hat):\n",
    "    # your code here\n",
    "    ...\n",
    "    return ...\n",
    "\n",
    "k = 1\n",
    "\n",
    "alpha = ...\n",
    "z = ...\n",
    "\n",
    "std = ...\n",
    "\n",
    "left = poiss_prob(k) - std*z\n",
    "right = poiss_prob(k) + std*z\n",
    "delta = left - right\n",
    "\n",
    "print(left, right)\n",
    "\n",
    "# проверка, что интервал построен корректно\n",
    "assert np.abs(left - 0.279) < 1e-3"
   ]
  },
  {
   "cell_type": "markdown",
   "metadata": {
    "deletable": false,
    "editable": false,
    "id": "8A7kjAOQdaJo",
    "nbgrader": {
     "cell_type": "markdown",
     "checksum": "10a701f826377d3ac37362b3ab3f9b92",
     "grade": false,
     "grade_id": "cell-f0b4e99983c91ca4",
     "locked": true,
     "schema_version": 3,
     "solution": false,
     "task": false
    }
   },
   "source": [
    "По аналогии можно построить доверительные интервалы для вероятности того, что случайная величина примет значения от нуля до девяти. Проделайте это в качестве необязательного упражнения и оформите процедуру расчёта в виде функции."
   ]
  },
  {
   "cell_type": "code",
   "execution_count": null,
   "metadata": {
    "deletable": false,
    "id": "q_7XXT_EdaJo",
    "nbgrader": {
     "cell_type": "code",
     "checksum": "c069ad8ca5fbcff71b79428535a2b4ba",
     "grade": false,
     "grade_id": "cell-957ca214e0fc17cb",
     "locked": false,
     "schema_version": 3,
     "solution": true,
     "task": false
    }
   },
   "outputs": [],
   "source": [
    "def prob_ci(k, alpha = 0.01, lam_hat=lam_hat):\n",
    "    # your code here\n",
    "    z = ...\n",
    "    std = ...\n",
    "    left = poiss_prob(k) - std*z\n",
    "    right = poiss_prob(k) + std*z\n",
    "    return left, right"
   ]
  },
  {
   "cell_type": "code",
   "execution_count": null,
   "metadata": {
    "id": "7GJw11n5daJo"
   },
   "outputs": [],
   "source": [
    "# проверка дов. интервала\n",
    "left, right = prob_ci(1)\n",
    "delta = right - left\n",
    "assert np.abs(delta - 0.08147) < 1e-5\n",
    "\n",
    "\n",
    "left, right = prob_ci(0)\n",
    "delta = right - left\n",
    "assert np.abs(delta - 0.11551) < 1e-5\n",
    "\n"
   ]
  },
  {
   "cell_type": "markdown",
   "metadata": {
    "id": "1ht5ylAedaJp"
   },
   "source": [
    "Сделали функцию? Запускайте код для не очень информативной картинки!"
   ]
  },
  {
   "cell_type": "code",
   "execution_count": null,
   "metadata": {
    "id": "OvF3r4vpdaJp",
    "outputId": "69f56172-2492-4c67-f040-44ae1fc28617"
   },
   "outputs": [
    {
     "data": {
      "image/png": "[encoded data removed]",
      "text/plain": [
       "<Figure size 720x360 with 1 Axes>"
      ]
     },
     "metadata": {},
     "output_type": "display_data"
    }
   ],
   "source": [
    "poiss_rv = stats.poisson(lam_hat)\n",
    "\n",
    "x = np.arange(10)\n",
    "\n",
    "p = poiss_rv.pmf(x)\n",
    "left, right = prob_ci(x)\n",
    "\n",
    "plt.figure(figsize=(10,5))\n",
    "plt.plot(x, p, 'bo', ms=6, label='poisson pmf')\n",
    "plt.fill_between(x, left, right, alpha=0.5)\n",
    "plt.vlines(x, 0, p, lw=1)\n",
    "plt.legend(loc='best', frameon=False)\n",
    "plt.show()\n"
   ]
  },
  {
   "cell_type": "code",
   "execution_count": null,
   "metadata": {
    "id": "y_i1ib2FdaJp",
    "outputId": "f4549111-5c7a-4668-805b-91b44a6eb033"
   },
   "outputs": [
    {
     "name": "stdout",
     "output_type": "stream",
     "text": [
      "Вероятность P(X=0) лежит между  0.12395 и 0.23946\n",
      "Вероятность P(X=1) лежит между  0.26914 и 0.35061\n",
      "Вероятность P(X=2) лежит между  0.24971 и 0.27873\n",
      "Вероятность P(X=3) лежит между  0.11396 и 0.18644\n",
      "Вероятность P(X=4) лежит между  0.036649 и 0.091422\n",
      "Вероятность P(X=5) лежит между  0.0084293 и 0.035252\n",
      "Вероятность P(X=6) лежит между  0.0012388 и 0.011177\n",
      "Вероятность P(X=7) лежит между  1.9936e-05 и 0.0030047\n",
      "Вероятность P(X=8) лежит между  -5.5837e-05 и 0.00070061\n",
      "Вероятность P(X=9) лежит между  -2.1966e-05 и 0.00014414\n"
     ]
    }
   ],
   "source": [
    "for k,(i,j) in enumerate(zip(left, right)):\n",
    "    print(f\"Вероятность P(X={k}) лежит между  {i:.5} и {j:.5}\")"
   ]
  },
  {
   "cell_type": "markdown",
   "metadata": {
    "deletable": false,
    "editable": false,
    "id": "cmaj_gwWdaJp",
    "nbgrader": {
     "cell_type": "markdown",
     "checksum": "8f6311fca1d92124280fe941a5617cdf",
     "grade": false,
     "grade_id": "cell-77d5ebfab1514cda",
     "locked": true,
     "schema_version": 3,
     "solution": false,
     "task": false
    }
   },
   "source": [
    "Интервалы получился довольно короткими. Попробуйте поиграться с уровнем значимости и посмотреть как они меняются в зависимости от него. "
   ]
  },
  {
   "cell_type": "markdown",
   "metadata": {
    "deletable": false,
    "editable": false,
    "id": "dONPhJRqdaJp",
    "nbgrader": {
     "cell_type": "markdown",
     "checksum": "b207b13b56e3339a7ba971a435ce5390",
     "grade": false,
     "grade_id": "cell-b3dd31a15c05e245",
     "locked": true,
     "schema_version": 3,
     "solution": false,
     "task": false
    }
   },
   "source": [
    "Мы из теории вероятностей знаем, что для случайной величины $X$, имеющей распределение Пуассона $\\mathbb{E}(X) = Var(X) = \\lambda$. Для текущей выборки мы видим, что между дисперсией и средним есть небольшое отличие.  \n",
    "\n",
    "Не факт, что мы имеем право предполагать, что наша выборка пришла к нам из распределения Пуассона. Все предпосылки о распределениях выборки нужно тестировать. Позже мы научимся это делать."
   ]
  },
  {
   "cell_type": "code",
   "execution_count": null,
   "metadata": {
    "id": "HX3Aty0WdaJp",
    "outputId": "46ae4fde-7699-49ac-d337-687182c0f866"
   },
   "outputs": [
    {
     "data": {
      "text/plain": [
       "(1.7053571428571428, 2.714205276705277)"
      ]
     },
     "execution_count": 89,
     "metadata": {},
     "output_type": "execute_result"
    }
   ],
   "source": [
    "df['count'].mean(), df['count'].var()"
   ]
  },
  {
   "cell_type": "markdown",
   "metadata": {
    "id": "nQzZEta5dclK"
   },
   "source": [
    "# Контрольная работа"
   ]
  },
  {
   "cell_type": "markdown",
   "metadata": {
    "deletable": false,
    "editable": false,
    "id": "wpMCOP-ldclM",
    "nbgrader": {
     "cell_type": "markdown",
     "checksum": "43f7f429f44d154d6c72b7b236254c08",
     "grade": false,
     "grade_id": "cell-be89eebcb2f6ec8c",
     "locked": true,
     "schema_version": 3,
     "solution": false,
     "task": false
    }
   },
   "source": [
    "В файле `cr.csv` лежат результаты контрольной работы, которая проводилась в Вышке на факультете \"Э\".  По мнению студентов эти оценки смещённые, несостоятельные и ужасно неэффективные. Но это уже совершенно другая история. Подгрузим файлик и посмотрим на него!  "
   ]
  },
  {
   "cell_type": "code",
   "execution_count": null,
   "metadata": {
    "id": "ERjx0vHZdclM",
    "outputId": "8a52b441-b786-4014-a301-c83165ecffb4"
   },
   "outputs": [
    {
     "name": "stdout",
     "output_type": "stream",
     "text": [
      "(389, 19)\n"
     ]
    },
    {
     "data": {
      "text/html": [
       "<div>\n",
       "<style scoped>\n",
       "    .dataframe tbody tr th:only-of-type {\n",
       "        vertical-align: middle;\n",
       "    }\n",
       "\n",
       "    .dataframe tbody tr th {\n",
       "        vertical-align: top;\n",
       "    }\n",
       "\n",
       "    .dataframe thead th {\n",
       "        text-align: right;\n",
       "    }\n",
       "</style>\n",
       "<table border=\"1\" class=\"dataframe\">\n",
       "  <thead>\n",
       "    <tr style=\"text-align: right;\">\n",
       "      <th></th>\n",
       "      <th>fraud</th>\n",
       "      <th>k1a</th>\n",
       "      <th>k1b</th>\n",
       "      <th>k1c</th>\n",
       "      <th>k1d</th>\n",
       "      <th>k1e</th>\n",
       "      <th>k1f</th>\n",
       "      <th>k1</th>\n",
       "      <th>k2a</th>\n",
       "      <th>k2b</th>\n",
       "      <th>k2c</th>\n",
       "      <th>k2d</th>\n",
       "      <th>k2e</th>\n",
       "      <th>k2f</th>\n",
       "      <th>k2</th>\n",
       "      <th>k3a</th>\n",
       "      <th>k3b</th>\n",
       "      <th>k3c</th>\n",
       "      <th>k3</th>\n",
       "    </tr>\n",
       "  </thead>\n",
       "  <tbody>\n",
       "    <tr>\n",
       "      <th>0</th>\n",
       "      <td>0.0</td>\n",
       "      <td>10.0</td>\n",
       "      <td>10.0</td>\n",
       "      <td>20.0</td>\n",
       "      <td>30.0</td>\n",
       "      <td>4.0</td>\n",
       "      <td>22.0</td>\n",
       "      <td>10.1</td>\n",
       "      <td>20.0</td>\n",
       "      <td>10.0</td>\n",
       "      <td>20.0</td>\n",
       "      <td>20.0</td>\n",
       "      <td>20.0</td>\n",
       "      <td>20.0</td>\n",
       "      <td>11.0</td>\n",
       "      <td>35.0</td>\n",
       "      <td>0.0</td>\n",
       "      <td>27.0</td>\n",
       "      <td>6.2</td>\n",
       "    </tr>\n",
       "    <tr>\n",
       "      <th>1</th>\n",
       "      <td>1.0</td>\n",
       "      <td>9.0</td>\n",
       "      <td>10.0</td>\n",
       "      <td>20.0</td>\n",
       "      <td>NaN</td>\n",
       "      <td>16.0</td>\n",
       "      <td>12.0</td>\n",
       "      <td>6.7</td>\n",
       "      <td>NaN</td>\n",
       "      <td>5.0</td>\n",
       "      <td>NaN</td>\n",
       "      <td>20.0</td>\n",
       "      <td>20.0</td>\n",
       "      <td>20.0</td>\n",
       "      <td>6.5</td>\n",
       "      <td>35.0</td>\n",
       "      <td>29.0</td>\n",
       "      <td>22.0</td>\n",
       "      <td>8.6</td>\n",
       "    </tr>\n",
       "    <tr>\n",
       "      <th>2</th>\n",
       "      <td>0.0</td>\n",
       "      <td>2.0</td>\n",
       "      <td>10.0</td>\n",
       "      <td>20.0</td>\n",
       "      <td>NaN</td>\n",
       "      <td>20.0</td>\n",
       "      <td>30.0</td>\n",
       "      <td>8.2</td>\n",
       "      <td>20.0</td>\n",
       "      <td>5.0</td>\n",
       "      <td>NaN</td>\n",
       "      <td>20.0</td>\n",
       "      <td>20.0</td>\n",
       "      <td>20.0</td>\n",
       "      <td>8.5</td>\n",
       "      <td>28.0</td>\n",
       "      <td>2.0</td>\n",
       "      <td>0.0</td>\n",
       "      <td>3.0</td>\n",
       "    </tr>\n",
       "    <tr>\n",
       "      <th>3</th>\n",
       "      <td>1.0</td>\n",
       "      <td>10.0</td>\n",
       "      <td>10.0</td>\n",
       "      <td>20.0</td>\n",
       "      <td>NaN</td>\n",
       "      <td>16.0</td>\n",
       "      <td>14.0</td>\n",
       "      <td>7.0</td>\n",
       "      <td>20.0</td>\n",
       "      <td>10.0</td>\n",
       "      <td>NaN</td>\n",
       "      <td>20.0</td>\n",
       "      <td>20.0</td>\n",
       "      <td>20.0</td>\n",
       "      <td>9.0</td>\n",
       "      <td>30.0</td>\n",
       "      <td>38.0</td>\n",
       "      <td>0.0</td>\n",
       "      <td>6.8</td>\n",
       "    </tr>\n",
       "    <tr>\n",
       "      <th>4</th>\n",
       "      <td>2.0</td>\n",
       "      <td>10.0</td>\n",
       "      <td>10.0</td>\n",
       "      <td>12.0</td>\n",
       "      <td>0.0</td>\n",
       "      <td>16.0</td>\n",
       "      <td>22.0</td>\n",
       "      <td>7.0</td>\n",
       "      <td>20.0</td>\n",
       "      <td>10.0</td>\n",
       "      <td>NaN</td>\n",
       "      <td>20.0</td>\n",
       "      <td>20.0</td>\n",
       "      <td>20.0</td>\n",
       "      <td>9.0</td>\n",
       "      <td>0.0</td>\n",
       "      <td>0.0</td>\n",
       "      <td>0.0</td>\n",
       "      <td>0.0</td>\n",
       "    </tr>\n",
       "  </tbody>\n",
       "</table>\n",
       "</div>"
      ],
      "text/plain": [
       "   fraud   k1a   k1b   k1c   k1d   k1e   k1f    k1   k2a   k2b   k2c   k2d  \\\n",
       "0    0.0  10.0  10.0  20.0  30.0   4.0  22.0  10.1  20.0  10.0  20.0  20.0   \n",
       "1    1.0   9.0  10.0  20.0   NaN  16.0  12.0   6.7   NaN   5.0   NaN  20.0   \n",
       "2    0.0   2.0  10.0  20.0   NaN  20.0  30.0   8.2  20.0   5.0   NaN  20.0   \n",
       "3    1.0  10.0  10.0  20.0   NaN  16.0  14.0   7.0  20.0  10.0   NaN  20.0   \n",
       "4    2.0  10.0  10.0  12.0   0.0  16.0  22.0   7.0  20.0  10.0   NaN  20.0   \n",
       "\n",
       "    k2e   k2f    k2   k3a   k3b   k3c   k3  \n",
       "0  20.0  20.0  11.0  35.0   0.0  27.0  6.2  \n",
       "1  20.0  20.0   6.5  35.0  29.0  22.0  8.6  \n",
       "2  20.0  20.0   8.5  28.0   2.0   0.0  3.0  \n",
       "3  20.0  20.0   9.0  30.0  38.0   0.0  6.8  \n",
       "4  20.0  20.0   9.0   0.0   0.0   0.0  0.0  "
      ]
     },
     "execution_count": 98,
     "metadata": {},
     "output_type": "execute_result"
    }
   ],
   "source": [
    "df = pd.read_csv('../Материалы/data/cr.csv')\n",
    "print(df.shape)\n",
    "df.head()"
   ]
  },
  {
   "cell_type": "markdown",
   "metadata": {
    "id": "Cq9xa-JDoIJM"
   },
   "source": [
    "__Описание колонок:__\n",
    "\n",
    "* `fraud` - в списывании скольки задач был уличён студент \n",
    "* `k1` - результат за первую контрольную, `k1a - k1f` в разбивке по задачам\n",
    "* `k2` - результат за вторую контрольную, `k2a - k2f` в разбивке по задачам\n",
    "* `k3` - результат за третью контрольную, `k3a - k3с` в разбивке по задачам"
   ]
  },
  {
   "cell_type": "markdown",
   "metadata": {
    "deletable": false,
    "editable": false,
    "id": "Cds4ZqqYdclO",
    "nbgrader": {
     "cell_type": "markdown",
     "checksum": "a609f2701de2c58fb402623ada75f2d6",
     "grade": false,
     "grade_id": "cell-12cb86d2c52c88ee",
     "locked": true,
     "schema_version": 3,
     "solution": false,
     "task": false
    }
   },
   "source": [
    "## Распределение результатов контрольной\n",
    "\n",
    "- Запишите все оценки за первую контрольную в переменную `x`, все пропуски удалите\n",
    "- Найдите среднее и стандартное отклонение (используйте несмещённую оценку) \n",
    "- Постройте гистограмму результатов за первую контрольную \n",
    "- На этой же картинке постройте плотность нормального распределения со средним и стандартным отклонением, посчитанными выше\n",
    "\n",
    "Похоже ли эмпирическое распределение на нормальное? "
   ]
  },
  {
   "cell_type": "code",
   "execution_count": null,
   "metadata": {
    "deletable": false,
    "id": "4BW50Ca7dclO",
    "nbgrader": {
     "cell_type": "code",
     "checksum": "04205b8269710e3852ef0ef2ec0c8bd5",
     "grade": false,
     "grade_id": "cell-4caa86c30a9f3dab",
     "locked": false,
     "schema_version": 3,
     "solution": true,
     "task": false
    }
   },
   "outputs": [],
   "source": [
    "x = ...\n",
    "x_mean = ...\n",
    "x_std = ...\n"
   ]
  },
  {
   "cell_type": "code",
   "execution_count": null,
   "metadata": {
    "id": "PwYC8VUchS-q"
   },
   "outputs": [],
   "source": [
    "# sns.histplot(...)"
   ]
  },
  {
   "cell_type": "code",
   "execution_count": null,
   "metadata": {},
   "outputs": [],
   "source": [
    "# проверка, что среднее посчитано корректно\n",
    "assert np.abs(x_mean - 5.4478149100) < 1e-5"
   ]
  },
  {
   "cell_type": "markdown",
   "metadata": {
    "deletable": false,
    "editable": false,
    "id": "a0ORKAradclS",
    "nbgrader": {
     "cell_type": "markdown",
     "checksum": "73238ad01c1a0a12f9a77d0bfa6b3e06",
     "grade": false,
     "grade_id": "cell-8ebc6cda31688260",
     "locked": true,
     "schema_version": 3,
     "solution": false,
     "task": false
    }
   },
   "source": [
    "Предположим невероятное! А именно, независимость и одинаковую распределённость наших наблюдений (никто не списывал контрольную друг у друга)."
   ]
  },
  {
   "cell_type": "markdown",
   "metadata": {
    "deletable": false,
    "editable": false,
    "id": "pY0JtxPjdclS",
    "nbgrader": {
     "cell_type": "markdown",
     "checksum": "8f76e098fcb040b85147b0f3426470d5",
     "grade": false,
     "grade_id": "cell-fb3d48dd25fb1f07",
     "locked": true,
     "schema_version": 3,
     "solution": false,
     "task": false
    }
   },
   "source": [
    "## Д.И. для среднего\n",
    "\n",
    "Постройте точный $95\\%$-й доверительный интервал для ожидамоего результата за первую контрольную. В качестве оценки стандартного отклонения используйте несмещённый вариант, `ddof=1`. В переменные `left` и `right` запишите границы получившегося интервала. В переменную `delta` его ширину. "
   ]
  },
  {
   "cell_type": "code",
   "execution_count": null,
   "metadata": {
    "deletable": false,
    "id": "KVI99PI0dclS",
    "nbgrader": {
     "cell_type": "code",
     "checksum": "70eb28b4aaeb46af2f9696cd4f691f2f",
     "grade": false,
     "grade_id": "cell-9e40f504dc8a1f04",
     "locked": false,
     "schema_version": 3,
     "solution": true,
     "task": false
    }
   },
   "outputs": [],
   "source": [
    "alpha = ...\n",
    "\n",
    "margin = ...    # отступ от среднего\n",
    "left =  ...     # левая граница интервала\n",
    "right = ...     # правая граница интервала\n",
    "delta = ...     # ширина интервала\n",
    "\n",
    "print(left, right)"
   ]
  },
  {
   "cell_type": "code",
   "execution_count": null,
   "metadata": {},
   "outputs": [],
   "source": [
    "# проверка, что границы доверительного интервала найдены верно\n",
    "assert np.abs(left - 5.13247213744281) < 1e-5"
   ]
  },
  {
   "cell_type": "markdown",
   "metadata": {
    "deletable": false,
    "editable": false,
    "id": "mYYL8CI6dclT",
    "nbgrader": {
     "cell_type": "markdown",
     "checksum": "c0e10ef4b641d40f0c88c89c8e1261fc",
     "grade": false,
     "grade_id": "cell-c8cb65b81fd4f4fe",
     "locked": true,
     "schema_version": 3,
     "solution": false,
     "task": false
    }
   },
   "source": [
    "## Хорошие и плохие студенты\n",
    "\n",
    "Переменная`fraud` - в списывании скольки задач был уличён студент. Разобьём наши наблюдения на две группы: Хорошие и Плохие. У Хороший `fraud == 0`, у Плохих `fraud > 0`. \n",
    "\n",
    "Запишите оценки за первую контрольную для хороших в переменную `good`, для плохих в `bad`. Все пропуски из выборки удалите. Постройте на общем фоне гистограмму распределения оценок за первую контрольную у хороших и плохих. \n",
    "\n",
    "__Интервал для разницы средних__ \n",
    "\n",
    "Постройте примерный $95\\%$-й доверительный интервал для разницы ожидаемого результата за первую контрольную у хороших и плохих студентнов без предположения о равенстве дисперсий (интервал Уэлча). Для оценки всех дисперсий используйте несмещённый вариант. Заполните все переменные, перечисленные ниже. "
   ]
  },
  {
   "cell_type": "markdown",
   "metadata": {
    "deletable": false,
    "editable": false,
    "id": "bnZ-u5VddclU",
    "nbgrader": {
     "cell_type": "markdown",
     "checksum": "6e25be1a6ef849cbf62ea4a3996214bc",
     "grade": false,
     "grade_id": "cell-66a3e9ada3ad850a",
     "locked": true,
     "schema_version": 3,
     "solution": false,
     "task": false
    }
   },
   "source": [
    "Входит ли в получившийся доверительный интервал ноль? Как думаете, что это означает? \n",
    "\n",
    "> *Ответ напишите сюда*"
   ]
  },
  {
   "cell_type": "code",
   "execution_count": null,
   "metadata": {
    "deletable": false,
    "id": "Zcvz9jO2dclT",
    "nbgrader": {
     "cell_type": "code",
     "checksum": "6c0b23dd967a4f205f44779962b2a42b",
     "grade": false,
     "grade_id": "cell-c0be9e8dcdcc6943",
     "locked": false,
     "schema_version": 3,
     "solution": true,
     "task": false
    }
   },
   "outputs": [],
   "source": [
    "good = ...\n",
    "bad = ...\n",
    "\n",
    "nu =  ...       # число степеней свободы в распределении Стьюдента\n",
    "margin = ...    # отступ от среднего\n",
    "left =  ...     # левая граница интервала\n",
    "right = ...     # правая граница интервала\n",
    "delta = ...     # ширина интервала\n",
    "\n",
    "print(left, right)"
   ]
  },
  {
   "cell_type": "code",
   "execution_count": null,
   "metadata": {},
   "outputs": [],
   "source": [
    "# проверка того, сколько в выборке оказалось ангелов и демонов\n",
    "assert len(angels) == 109\n",
    "\n",
    "# проверка, что границы доверительного интервала найдены верно\n",
    "assert np.abs(left + 0.8045581262764373) < 1e-5"
   ]
  },
  {
   "cell_type": "markdown",
   "metadata": {
    "deletable": false,
    "editable": false,
    "id": "VwOZr2scdclV",
    "nbgrader": {
     "cell_type": "markdown",
     "checksum": "063bd8b6e45cccc3e8cae735b5ff739a",
     "grade": false,
     "grade_id": "cell-0d191b73acb7ee38",
     "locked": true,
     "schema_version": 3,
     "solution": false,
     "task": false
    }
   },
   "source": [
    "## Д.И. для дисперсии\n",
    "\n",
    "Предположим, что математическое ожидание результата за контрольную зависит от уровня подготовки, а дисперсия результата — от нервов. Постройте для отношения нервозности плохих и хороших студентов $95\\%$ доверительный интервал. Для оценки всех дисперсий используйте несмещённый вариант. "
   ]
  },
  {
   "cell_type": "markdown",
   "metadata": {
    "deletable": false,
    "editable": false,
    "id": "fz0o0nk-dclV",
    "nbgrader": {
     "cell_type": "markdown",
     "checksum": "35287e8c0aaa3c65baeb855d439e24f1",
     "grade": false,
     "grade_id": "cell-c10fcf23f98971bb",
     "locked": true,
     "schema_version": 3,
     "solution": false,
     "task": false
    }
   },
   "source": [
    "Вошла ли в доверительный интервал единица? Как думаете, что это означает? \n",
    "\n",
    "> *Ответ напишите сюда*"
   ]
  },
  {
   "cell_type": "code",
   "execution_count": null,
   "metadata": {
    "deletable": false,
    "id": "XP-TabNzdclV",
    "nbgrader": {
     "cell_type": "code",
     "checksum": "8ea1121c2ed8a94df21d96016401ccb1",
     "grade": false,
     "grade_id": "cell-8dae4d42e098b2a2",
     "locked": false,
     "schema_version": 3,
     "solution": true,
     "task": false
    }
   },
   "outputs": [],
   "source": [
    "alpha = 0.05\n",
    "left =  ...     # левая граница интервала\n",
    "right = ...     # правая граница интервала\n",
    "delta = ...     # ширина интервала\n",
    "\n",
    "print(left, right)"
   ]
  },
  {
   "cell_type": "code",
   "execution_count": null,
   "metadata": {},
   "outputs": [],
   "source": [
    "# проверка, что границы доверительного интервала найдены верно\n",
    "assert np.abs(left - 0.6247510406208133) < 1e-5\n"
   ]
  },
  {
   "cell_type": "markdown",
   "metadata": {
    "deletable": false,
    "editable": false,
    "id": "vLKNClN6dclW",
    "nbgrader": {
     "cell_type": "markdown",
     "checksum": "e6ab5253dba5643bd1bf843ac2058c6e",
     "grade": false,
     "grade_id": "cell-883157a3a5a40be9",
     "locked": true,
     "schema_version": 3,
     "solution": false,
     "task": false
    }
   },
   "source": [
    "## Доля написавших третью контрольную\n",
    "\n",
    "У студентов был выбор: писать или не писать третью контрольную. Если в колонке `k3` стоит $0$, значит студент не стал это делать. Постройте асимптотический $95\\%$-й доверительный интервал для разницы долей хороших и плохих студентов, которые решили писать третью контрольную. \n",
    "\n",
    "__Примечание:__ На практике, если мы пользуемся асимптотическими доверительными интервалами, мы можем искать границы двумя способами:\n",
    "\n",
    "* __Первый__ состоит в том, что мы оцениваем стандартное отклонение с помощью $\\sqrt{\\hat{p} \\cdot (1 - \\hat{p})} = \\sqrt{\\bar{x} \\cdot (1 - \\bar{x})}$. \n",
    "* __Второй способ__ состоит в том, чтобы оценить стандартное отклонение как  $\\sqrt{\\frac{1}{n-1} \\cdot \\sum_{i=1}^n (x_i - \\bar{x})^2}$. \n",
    "\n",
    "В плане асимптотики это не влияет на выводы, так как обе этих оценки состоятельно оценивают дисперсию. Можно пользоваться любым. "
   ]
  },
  {
   "cell_type": "markdown",
   "metadata": {
    "deletable": false,
    "editable": false,
    "id": "8tOOIK3tdclX",
    "nbgrader": {
     "cell_type": "markdown",
     "checksum": "305582da29ec7a31d2f90c0f06fb9651",
     "grade": false,
     "grade_id": "cell-e474bad5c9133fa8",
     "locked": true,
     "schema_version": 3,
     "solution": false,
     "task": false
    }
   },
   "source": [
    "Входит ли в доверительный интервал ноль? Как думаете, что это означает? \n",
    "\n",
    "> *Ответ напишите сюда*"
   ]
  },
  {
   "cell_type": "code",
   "execution_count": null,
   "metadata": {
    "deletable": false,
    "id": "v4CCvbt9dclW",
    "nbgrader": {
     "cell_type": "code",
     "checksum": "04a67297c1a4265eb642c8657a9dc8c6",
     "grade": false,
     "grade_id": "cell-27c36da495c9f1b9",
     "locked": false,
     "schema_version": 3,
     "solution": true,
     "task": false
    }
   },
   "outputs": [],
   "source": [
    "alpha = 0.05\n",
    "left =  ...     # левая граница интервала\n",
    "right = ...     # правая граница интервала\n",
    "delta = ...     # ширина интервала\n",
    "\n",
    "print(left, right)"
   ]
  },
  {
   "cell_type": "code",
   "execution_count": null,
   "metadata": {},
   "outputs": [],
   "source": [
    "# проверка, что границы доверительного интервала найдены верно\n",
    "assert np.abs(left + 0.1885) < 1e-3"
   ]
  },
  {
   "cell_type": "markdown",
   "metadata": {
    "deletable": false,
    "editable": false,
    "id": "kNg5I112dclX",
    "nbgrader": {
     "cell_type": "markdown",
     "checksum": "85e3ab45a0c0e7a5455403c2f2824bb3",
     "grade": false,
     "grade_id": "cell-0e6bd521a8522d4b",
     "locked": true,
     "schema_version": 3,
     "solution": false,
     "task": false
    }
   },
   "source": [
    "## Снова разница средних\n",
    "\n",
    "Посмотрим на результаты студентов в динамике. Постройте точный $95\\%$ доверительный интервал для средней разницы оценок за вторую и первую контрольные. Пропуски в данных заполните нулями. "
   ]
  },
  {
   "cell_type": "markdown",
   "metadata": {
    "deletable": false,
    "editable": false,
    "id": "2EXdio0ndclX",
    "nbgrader": {
     "cell_type": "markdown",
     "checksum": "9e70820055d9cf699f61b64bdee48755",
     "grade": false,
     "grade_id": "cell-d60ae7faf8d2aa78",
     "locked": true,
     "schema_version": 3,
     "solution": false,
     "task": false
    }
   },
   "source": [
    "Входит ли в доверительный интервал ноль? Как думаете, что это означает? \n",
    "\n",
    "> *Ответ напишите сюда*"
   ]
  },
  {
   "cell_type": "code",
   "execution_count": null,
   "metadata": {
    "deletable": false,
    "id": "hggHL0_MdclX",
    "nbgrader": {
     "cell_type": "code",
     "checksum": "00506bb1365beb2e76ed5c4f0d126019",
     "grade": false,
     "grade_id": "cell-0781fc2725266cb8",
     "locked": false,
     "schema_version": 3,
     "solution": true,
     "task": false
    }
   },
   "outputs": [],
   "source": [
    "alpha = 0.05\n",
    "left =  ...     # левая граница интервала\n",
    "right = ...     # правая граница интервала\n",
    "delta = ...     # ширина интервала\n",
    "\n",
    "print(left, right)"
   ]
  },
  {
   "cell_type": "code",
   "execution_count": null,
   "metadata": {},
   "outputs": [],
   "source": [
    "# проверка, что границы доверительного интервала найдены верно\n",
    "assert np.abs(left + 1.4562881732820103) < 1e-5"
   ]
  },
  {
   "cell_type": "markdown",
   "metadata": {
    "deletable": false,
    "editable": false,
    "id": "P3RM65EhdclX",
    "nbgrader": {
     "cell_type": "markdown",
     "checksum": "077635f824d87fa65f1974a77ad1e58f",
     "grade": false,
     "grade_id": "cell-701c121e9d85cfbe",
     "locked": true,
     "schema_version": 3,
     "solution": false,
     "task": false
    }
   },
   "source": [
    "Это домашка подошла к концу!\n",
    "\n",
    "Поздравляю! \n",
    "\n",
    "Теперь вы умеете строить \n",
    "- асимптотические доверительные интервалы для любых выборок\n",
    "- точные доверительные интервалы для нормальных выборок\n"
   ]
  },
  {
   "cell_type": "code",
   "execution_count": null,
   "metadata": {
    "id": "3DM3L1IyE65i"
   },
   "outputs": [],
   "source": []
  }
 ],
 "metadata": {
  "colab": {
   "collapsed_sections": [],
   "name": "hw2_confidence intervals (mines+cw).ipynb",
   "provenance": [],
   "toc_visible": true
  },
  "kernelspec": {
   "display_name": "Python 3 (ipykernel)",
   "language": "python",
   "name": "python3"
  },
  "language_info": {
   "codemirror_mode": {
    "name": "ipython",
    "version": 3
   },
   "file_extension": ".py",
   "mimetype": "text/x-python",
   "name": "python",
   "nbconvert_exporter": "python",
   "pygments_lexer": "ipython3",
   "version": "3.10.4"
  },
  "toc": {
   "base_numbering": 1,
   "nav_menu": {},
   "number_sections": false,
   "sideBar": true,
   "skip_h1_title": false,
   "title_cell": "Table of Contents",
   "title_sidebar": "Contents",
   "toc_cell": true,
   "toc_position": {
    "height": "calc(100% - 180px)",
    "left": "10px",
    "top": "150px",
    "width": "261.804px"
   },
   "toc_section_display": true,
   "toc_window_display": true
  }
 },
 "nbformat": 4,
 "nbformat_minor": 1
}
