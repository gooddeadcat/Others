{
 "cells": [
  {
   "cell_type": "markdown",
   "metadata": {
    "id": "jq5j6pYCCQn3"
   },
   "source": [
    "# **l1.Дескриптивные статистики. Выбросы. Основные распределения**"
   ]
  },
  {
   "cell_type": "code",
   "execution_count": null,
   "metadata": {
    "id": "NrYCl0U1CPy9"
   },
   "outputs": [],
   "source": [
    "import pandas as pd             # библиотека для работы с таблицами\n",
    "import numpy as np              # библиотека для работы вычислений\n",
    "import matplotlib.pyplot as plt # библиотека для визуализации"
   ]
  },
  {
   "cell_type": "markdown",
   "metadata": {
    "id": "iEdm36DXDFax"
   },
   "source": [
    "Данные содержат следующие признаки:\n",
    "\n",
    "**ID** - Unique number for each athlete\n",
    "\n",
    "**Name** - Athlete's name\n",
    "\n",
    "**Sex** - M or F\n",
    "\n",
    "**Age** - Integer\n",
    "\n",
    "**Height** - In centimeters\n",
    "\n",
    "**Weight** - In kilograms\n",
    "\n",
    "**Team** - Team name\n",
    "\n",
    "**NOC** - National Olympic Committee 3-letter code\n",
    "\n",
    "**Games** - Year and season\n",
    "\n",
    "**Year** - Integer\n",
    "\n",
    "**Season** - Summer or Winter\n",
    "\n",
    "**City** - Host city\n",
    "\n",
    "**Sport** - Sport\n",
    "\n",
    "**Event** - Event\n",
    "\n",
    "**Medal** - Gold, Silver, Bronze, or NA"
   ]
  },
  {
   "cell_type": "code",
   "execution_count": null,
   "metadata": {
    "colab": {
     "base_uri": "https://localhost:8080/",
     "height": 991
    },
    "id": "zs6wndcwCz2h",
    "outputId": "3df4e714-b9c4-4563-8fa1-74849e5a80b7"
   },
   "outputs": [
    {
     "data": {
      "text/html": [
       "\n",
       "  <div id=\"df-f9603481-5b0e-4fb1-887f-5e9de7796350\">\n",
       "    <div class=\"colab-df-container\">\n",
       "      <div>\n",
       "<style scoped>\n",
       "    .dataframe tbody tr th:only-of-type {\n",
       "        vertical-align: middle;\n",
       "    }\n",
       "\n",
       "    .dataframe tbody tr th {\n",
       "        vertical-align: top;\n",
       "    }\n",
       "\n",
       "    .dataframe thead th {\n",
       "        text-align: right;\n",
       "    }\n",
       "</style>\n",
       "<table border=\"1\" class=\"dataframe\">\n",
       "  <thead>\n",
       "    <tr style=\"text-align: right;\">\n",
       "      <th></th>\n",
       "      <th>ID</th>\n",
       "      <th>Name</th>\n",
       "      <th>Sex</th>\n",
       "      <th>Age</th>\n",
       "      <th>Height</th>\n",
       "      <th>Weight</th>\n",
       "      <th>Team</th>\n",
       "      <th>NOC</th>\n",
       "      <th>Games</th>\n",
       "      <th>Year</th>\n",
       "      <th>Season</th>\n",
       "      <th>City</th>\n",
       "      <th>Sport</th>\n",
       "      <th>Event</th>\n",
       "      <th>Medal</th>\n",
       "    </tr>\n",
       "  </thead>\n",
       "  <tbody>\n",
       "    <tr>\n",
       "      <th>40</th>\n",
       "      <td>16</td>\n",
       "      <td>Juhamatti Tapio Aaltonen</td>\n",
       "      <td>M</td>\n",
       "      <td>28.0</td>\n",
       "      <td>184.0</td>\n",
       "      <td>85.0</td>\n",
       "      <td>Finland</td>\n",
       "      <td>FIN</td>\n",
       "      <td>2014 Winter</td>\n",
       "      <td>2014</td>\n",
       "      <td>Winter</td>\n",
       "      <td>Sochi</td>\n",
       "      <td>Ice Hockey</td>\n",
       "      <td>Ice Hockey Men's Ice Hockey</td>\n",
       "      <td>Bronze</td>\n",
       "    </tr>\n",
       "    <tr>\n",
       "      <th>41</th>\n",
       "      <td>17</td>\n",
       "      <td>Paavo Johannes Aaltonen</td>\n",
       "      <td>M</td>\n",
       "      <td>28.0</td>\n",
       "      <td>175.0</td>\n",
       "      <td>64.0</td>\n",
       "      <td>Finland</td>\n",
       "      <td>FIN</td>\n",
       "      <td>1948 Summer</td>\n",
       "      <td>1948</td>\n",
       "      <td>Summer</td>\n",
       "      <td>London</td>\n",
       "      <td>Gymnastics</td>\n",
       "      <td>Gymnastics Men's Individual All-Around</td>\n",
       "      <td>Bronze</td>\n",
       "    </tr>\n",
       "    <tr>\n",
       "      <th>42</th>\n",
       "      <td>17</td>\n",
       "      <td>Paavo Johannes Aaltonen</td>\n",
       "      <td>M</td>\n",
       "      <td>28.0</td>\n",
       "      <td>175.0</td>\n",
       "      <td>64.0</td>\n",
       "      <td>Finland</td>\n",
       "      <td>FIN</td>\n",
       "      <td>1948 Summer</td>\n",
       "      <td>1948</td>\n",
       "      <td>Summer</td>\n",
       "      <td>London</td>\n",
       "      <td>Gymnastics</td>\n",
       "      <td>Gymnastics Men's Team All-Around</td>\n",
       "      <td>Gold</td>\n",
       "    </tr>\n",
       "    <tr>\n",
       "      <th>44</th>\n",
       "      <td>17</td>\n",
       "      <td>Paavo Johannes Aaltonen</td>\n",
       "      <td>M</td>\n",
       "      <td>28.0</td>\n",
       "      <td>175.0</td>\n",
       "      <td>64.0</td>\n",
       "      <td>Finland</td>\n",
       "      <td>FIN</td>\n",
       "      <td>1948 Summer</td>\n",
       "      <td>1948</td>\n",
       "      <td>Summer</td>\n",
       "      <td>London</td>\n",
       "      <td>Gymnastics</td>\n",
       "      <td>Gymnastics Men's Horse Vault</td>\n",
       "      <td>Gold</td>\n",
       "    </tr>\n",
       "    <tr>\n",
       "      <th>48</th>\n",
       "      <td>17</td>\n",
       "      <td>Paavo Johannes Aaltonen</td>\n",
       "      <td>M</td>\n",
       "      <td>28.0</td>\n",
       "      <td>175.0</td>\n",
       "      <td>64.0</td>\n",
       "      <td>Finland</td>\n",
       "      <td>FIN</td>\n",
       "      <td>1948 Summer</td>\n",
       "      <td>1948</td>\n",
       "      <td>Summer</td>\n",
       "      <td>London</td>\n",
       "      <td>Gymnastics</td>\n",
       "      <td>Gymnastics Men's Pommelled Horse</td>\n",
       "      <td>Gold</td>\n",
       "    </tr>\n",
       "    <tr>\n",
       "      <th>...</th>\n",
       "      <td>...</td>\n",
       "      <td>...</td>\n",
       "      <td>...</td>\n",
       "      <td>...</td>\n",
       "      <td>...</td>\n",
       "      <td>...</td>\n",
       "      <td>...</td>\n",
       "      <td>...</td>\n",
       "      <td>...</td>\n",
       "      <td>...</td>\n",
       "      <td>...</td>\n",
       "      <td>...</td>\n",
       "      <td>...</td>\n",
       "      <td>...</td>\n",
       "      <td>...</td>\n",
       "    </tr>\n",
       "    <tr>\n",
       "      <th>271078</th>\n",
       "      <td>135553</td>\n",
       "      <td>Galina Ivanovna Zybina (-Fyodorova)</td>\n",
       "      <td>F</td>\n",
       "      <td>25.0</td>\n",
       "      <td>168.0</td>\n",
       "      <td>80.0</td>\n",
       "      <td>Soviet Union</td>\n",
       "      <td>URS</td>\n",
       "      <td>1956 Summer</td>\n",
       "      <td>1956</td>\n",
       "      <td>Summer</td>\n",
       "      <td>Melbourne</td>\n",
       "      <td>Athletics</td>\n",
       "      <td>Athletics Women's Shot Put</td>\n",
       "      <td>Silver</td>\n",
       "    </tr>\n",
       "    <tr>\n",
       "      <th>271080</th>\n",
       "      <td>135553</td>\n",
       "      <td>Galina Ivanovna Zybina (-Fyodorova)</td>\n",
       "      <td>F</td>\n",
       "      <td>33.0</td>\n",
       "      <td>168.0</td>\n",
       "      <td>80.0</td>\n",
       "      <td>Soviet Union</td>\n",
       "      <td>URS</td>\n",
       "      <td>1964 Summer</td>\n",
       "      <td>1964</td>\n",
       "      <td>Summer</td>\n",
       "      <td>Tokyo</td>\n",
       "      <td>Athletics</td>\n",
       "      <td>Athletics Women's Shot Put</td>\n",
       "      <td>Bronze</td>\n",
       "    </tr>\n",
       "    <tr>\n",
       "      <th>271082</th>\n",
       "      <td>135554</td>\n",
       "      <td>Bogusaw Zych</td>\n",
       "      <td>M</td>\n",
       "      <td>28.0</td>\n",
       "      <td>182.0</td>\n",
       "      <td>82.0</td>\n",
       "      <td>Poland</td>\n",
       "      <td>POL</td>\n",
       "      <td>1980 Summer</td>\n",
       "      <td>1980</td>\n",
       "      <td>Summer</td>\n",
       "      <td>Moskva</td>\n",
       "      <td>Fencing</td>\n",
       "      <td>Fencing Men's Foil, Team</td>\n",
       "      <td>Bronze</td>\n",
       "    </tr>\n",
       "    <tr>\n",
       "      <th>271102</th>\n",
       "      <td>135563</td>\n",
       "      <td>Olesya Nikolayevna Zykina</td>\n",
       "      <td>F</td>\n",
       "      <td>19.0</td>\n",
       "      <td>171.0</td>\n",
       "      <td>64.0</td>\n",
       "      <td>Russia</td>\n",
       "      <td>RUS</td>\n",
       "      <td>2000 Summer</td>\n",
       "      <td>2000</td>\n",
       "      <td>Summer</td>\n",
       "      <td>Sydney</td>\n",
       "      <td>Athletics</td>\n",
       "      <td>Athletics Women's 4 x 400 metres Relay</td>\n",
       "      <td>Bronze</td>\n",
       "    </tr>\n",
       "    <tr>\n",
       "      <th>271103</th>\n",
       "      <td>135563</td>\n",
       "      <td>Olesya Nikolayevna Zykina</td>\n",
       "      <td>F</td>\n",
       "      <td>23.0</td>\n",
       "      <td>171.0</td>\n",
       "      <td>64.0</td>\n",
       "      <td>Russia</td>\n",
       "      <td>RUS</td>\n",
       "      <td>2004 Summer</td>\n",
       "      <td>2004</td>\n",
       "      <td>Summer</td>\n",
       "      <td>Athina</td>\n",
       "      <td>Athletics</td>\n",
       "      <td>Athletics Women's 4 x 400 metres Relay</td>\n",
       "      <td>Silver</td>\n",
       "    </tr>\n",
       "  </tbody>\n",
       "</table>\n",
       "<p>30181 rows × 15 columns</p>\n",
       "</div>\n",
       "      <button class=\"colab-df-convert\" onclick=\"convertToInteractive('df-f9603481-5b0e-4fb1-887f-5e9de7796350')\"\n",
       "              title=\"Convert this dataframe to an interactive table.\"\n",
       "              style=\"display:none;\">\n",
       "        \n",
       "  <svg xmlns=\"http://www.w3.org/2000/svg\" height=\"24px\"viewBox=\"0 0 24 24\"\n",
       "       width=\"24px\">\n",
       "    <path d=\"M0 0h24v24H0V0z\" fill=\"none\"/>\n",
       "    <path d=\"M18.56 5.44l.94 2.06.94-2.06 2.06-.94-2.06-.94-.94-2.06-.94 2.06-2.06.94zm-11 1L8.5 8.5l.94-2.06 2.06-.94-2.06-.94L8.5 2.5l-.94 2.06-2.06.94zm10 10l.94 2.06.94-2.06 2.06-.94-2.06-.94-.94-2.06-.94 2.06-2.06.94z\"/><path d=\"M17.41 7.96l-1.37-1.37c-.4-.4-.92-.59-1.43-.59-.52 0-1.04.2-1.43.59L10.3 9.45l-7.72 7.72c-.78.78-.78 2.05 0 2.83L4 21.41c.39.39.9.59 1.41.59.51 0 1.02-.2 1.41-.59l7.78-7.78 2.81-2.81c.8-.78.8-2.07 0-2.86zM5.41 20L4 18.59l7.72-7.72 1.47 1.35L5.41 20z\"/>\n",
       "  </svg>\n",
       "      </button>\n",
       "      \n",
       "  <style>\n",
       "    .colab-df-container {\n",
       "      display:flex;\n",
       "      flex-wrap:wrap;\n",
       "      gap: 12px;\n",
       "    }\n",
       "\n",
       "    .colab-df-convert {\n",
       "      background-color: #E8F0FE;\n",
       "      border: none;\n",
       "      border-radius: 50%;\n",
       "      cursor: pointer;\n",
       "      display: none;\n",
       "      fill: #1967D2;\n",
       "      height: 32px;\n",
       "      padding: 0 0 0 0;\n",
       "      width: 32px;\n",
       "    }\n",
       "\n",
       "    .colab-df-convert:hover {\n",
       "      background-color: #E2EBFA;\n",
       "      box-shadow: 0px 1px 2px rgba(60, 64, 67, 0.3), 0px 1px 3px 1px rgba(60, 64, 67, 0.15);\n",
       "      fill: #174EA6;\n",
       "    }\n",
       "\n",
       "    [theme=dark] .colab-df-convert {\n",
       "      background-color: #3B4455;\n",
       "      fill: #D2E3FC;\n",
       "    }\n",
       "\n",
       "    [theme=dark] .colab-df-convert:hover {\n",
       "      background-color: #434B5C;\n",
       "      box-shadow: 0px 1px 3px 1px rgba(0, 0, 0, 0.15);\n",
       "      filter: drop-shadow(0px 1px 2px rgba(0, 0, 0, 0.3));\n",
       "      fill: #FFFFFF;\n",
       "    }\n",
       "  </style>\n",
       "\n",
       "      <script>\n",
       "        const buttonEl =\n",
       "          document.querySelector('#df-f9603481-5b0e-4fb1-887f-5e9de7796350 button.colab-df-convert');\n",
       "        buttonEl.style.display =\n",
       "          google.colab.kernel.accessAllowed ? 'block' : 'none';\n",
       "\n",
       "        async function convertToInteractive(key) {\n",
       "          const element = document.querySelector('#df-f9603481-5b0e-4fb1-887f-5e9de7796350');\n",
       "          const dataTable =\n",
       "            await google.colab.kernel.invokeFunction('convertToInteractive',\n",
       "                                                     [key], {});\n",
       "          if (!dataTable) return;\n",
       "\n",
       "          const docLinkHtml = 'Like what you see? Visit the ' +\n",
       "            '<a target=\"_blank\" href=https://colab.research.google.com/notebooks/data_table.ipynb>data table notebook</a>'\n",
       "            + ' to learn more about interactive tables.';\n",
       "          element.innerHTML = '';\n",
       "          dataTable['output_type'] = 'display_data';\n",
       "          await google.colab.output.renderOutput(dataTable, element);\n",
       "          const docLink = document.createElement('div');\n",
       "          docLink.innerHTML = docLinkHtml;\n",
       "          element.appendChild(docLink);\n",
       "        }\n",
       "      </script>\n",
       "    </div>\n",
       "  </div>\n",
       "  "
      ],
      "text/plain": [
       "            ID                                 Name Sex   Age  Height  Weight  \\\n",
       "40          16             Juhamatti Tapio Aaltonen   M  28.0   184.0    85.0   \n",
       "41          17              Paavo Johannes Aaltonen   M  28.0   175.0    64.0   \n",
       "42          17              Paavo Johannes Aaltonen   M  28.0   175.0    64.0   \n",
       "44          17              Paavo Johannes Aaltonen   M  28.0   175.0    64.0   \n",
       "48          17              Paavo Johannes Aaltonen   M  28.0   175.0    64.0   \n",
       "...        ...                                  ...  ..   ...     ...     ...   \n",
       "271078  135553  Galina Ivanovna Zybina (-Fyodorova)   F  25.0   168.0    80.0   \n",
       "271080  135553  Galina Ivanovna Zybina (-Fyodorova)   F  33.0   168.0    80.0   \n",
       "271082  135554                         Bogusaw Zych   M  28.0   182.0    82.0   \n",
       "271102  135563            Olesya Nikolayevna Zykina   F  19.0   171.0    64.0   \n",
       "271103  135563            Olesya Nikolayevna Zykina   F  23.0   171.0    64.0   \n",
       "\n",
       "                Team  NOC        Games  Year  Season       City       Sport  \\\n",
       "40           Finland  FIN  2014 Winter  2014  Winter      Sochi  Ice Hockey   \n",
       "41           Finland  FIN  1948 Summer  1948  Summer     London  Gymnastics   \n",
       "42           Finland  FIN  1948 Summer  1948  Summer     London  Gymnastics   \n",
       "44           Finland  FIN  1948 Summer  1948  Summer     London  Gymnastics   \n",
       "48           Finland  FIN  1948 Summer  1948  Summer     London  Gymnastics   \n",
       "...              ...  ...          ...   ...     ...        ...         ...   \n",
       "271078  Soviet Union  URS  1956 Summer  1956  Summer  Melbourne   Athletics   \n",
       "271080  Soviet Union  URS  1964 Summer  1964  Summer      Tokyo   Athletics   \n",
       "271082        Poland  POL  1980 Summer  1980  Summer     Moskva     Fencing   \n",
       "271102        Russia  RUS  2000 Summer  2000  Summer     Sydney   Athletics   \n",
       "271103        Russia  RUS  2004 Summer  2004  Summer     Athina   Athletics   \n",
       "\n",
       "                                         Event   Medal  \n",
       "40                 Ice Hockey Men's Ice Hockey  Bronze  \n",
       "41      Gymnastics Men's Individual All-Around  Bronze  \n",
       "42            Gymnastics Men's Team All-Around    Gold  \n",
       "44                Gymnastics Men's Horse Vault    Gold  \n",
       "48            Gymnastics Men's Pommelled Horse    Gold  \n",
       "...                                        ...     ...  \n",
       "271078              Athletics Women's Shot Put  Silver  \n",
       "271080              Athletics Women's Shot Put  Bronze  \n",
       "271082                Fencing Men's Foil, Team  Bronze  \n",
       "271102  Athletics Women's 4 x 400 metres Relay  Bronze  \n",
       "271103  Athletics Women's 4 x 400 metres Relay  Silver  \n",
       "\n",
       "[30181 rows x 15 columns]"
      ]
     },
     "execution_count": 2,
     "metadata": {},
     "output_type": "execute_result"
    }
   ],
   "source": [
    "df = pd.read_csv('https://raw.githubusercontent.com/rogovich/Data/master/data/olympics/athlete_events.csv')\n",
    "df.dropna(inplace=True)\n",
    "df"
   ]
  },
  {
   "cell_type": "markdown",
   "metadata": {
    "id": "5vaZ2glbGT_P"
   },
   "source": [
    "## Эмпирическая функция распределения"
   ]
  },
  {
   "cell_type": "code",
   "execution_count": null,
   "metadata": {
    "colab": {
     "base_uri": "https://localhost:8080/"
    },
    "id": "KjTMdFLmGYt5",
    "outputId": "331dae85-2518-4a40-c450-580e02f47597"
   },
   "outputs": [
    {
     "data": {
      "image/png": "[encoded data removed]",
      "text/plain": [
       "<Figure size 432x288 with 1 Axes>"
      ]
     },
     "metadata": {
      "needs_background": "light"
     },
     "output_type": "display_data"
    }
   ],
   "source": [
    "# для построения ECDF используем библиотеку statsmodels\n",
    "from statsmodels.distributions.empirical_distribution import ECDF\n",
    "\n",
    "ecdf = ECDF(df['Height'])   # строим эмпирическую функцию по выборке\n",
    "\n",
    "plt.step(ecdf.x, ecdf.y)\n",
    "plt.ylabel('$F(x)$', fontsize=20)\n",
    "plt.xlabel('$x$', fontsize=20);"
   ]
  },
  {
   "cell_type": "markdown",
   "metadata": {
    "id": "7KA9O_0KDapT"
   },
   "source": [
    "## Гистограмма распределения"
   ]
  },
  {
   "cell_type": "code",
   "execution_count": null,
   "metadata": {
    "colab": {
     "base_uri": "https://localhost:8080/"
    },
    "id": "7BfYmSokDfHe",
    "outputId": "f2655437-b854-4baa-df93-b80b183361fe"
   },
   "outputs": [
    {
     "data": {
      "image/png": "[encoded data removed]",
      "text/plain": [
       "<Figure size 432x288 with 1 Axes>"
      ]
     },
     "metadata": {
      "needs_background": "light"
     },
     "output_type": "display_data"
    }
   ],
   "source": [
    "plt.hist(df['Height'], bins = 30); #строим гистограмму"
   ]
  },
  {
   "cell_type": "code",
   "execution_count": null,
   "metadata": {
    "colab": {
     "base_uri": "https://localhost:8080/"
    },
    "id": "rGLlmvriFk25",
    "outputId": "6d090e23-cc28-427d-9652-bbe227576a15"
   },
   "outputs": [
    {
     "data": {
      "image/png": "[encoded data removed]",
      "text/plain": [
       "<Figure size 432x288 with 1 Axes>"
      ]
     },
     "metadata": {
      "needs_background": "light"
     },
     "output_type": "display_data"
    }
   ],
   "source": [
    "plt.hist(df['Weight'], bins = 20);"
   ]
  },
  {
   "cell_type": "markdown",
   "metadata": {
    "id": "ITY-knXeKL5G"
   },
   "source": [
    "## Ядерная функция плотности"
   ]
  },
  {
   "cell_type": "code",
   "execution_count": null,
   "metadata": {
    "colab": {
     "base_uri": "https://localhost:8080/"
    },
    "id": "jn2E8meoKUo9",
    "outputId": "efe11a62-81ea-4923-baf7-621e146e7cd5"
   },
   "outputs": [
    {
     "data": {
      "image/png": "[encoded data removed]",
      "text/plain": [
       "<Figure size 432x288 with 1 Axes>"
      ]
     },
     "metadata": {
      "needs_background": "light"
     },
     "output_type": "display_data"
    }
   ],
   "source": [
    "from scipy.stats import kde\n",
    "\n",
    "density = kde.gaussian_kde(df['Height'])\n",
    "x = np.linspace(df['Height'].min(),df['Height'].max(),300)\n",
    "y=density(x)\n",
    "\n",
    "plt.plot(x, y, color = 'r')                      #Ядерная функция плотности\n",
    "plt.hist(df['Height'], bins = 30, density =True);  #Гистограмма"
   ]
  },
  {
   "cell_type": "code",
   "execution_count": null,
   "metadata": {
    "colab": {
     "base_uri": "https://localhost:8080/"
    },
    "id": "Hr6M3bGB66TO",
    "outputId": "a23c10b9-73a5-4fce-cacc-28348cafe3bb"
   },
   "outputs": [
    {
     "data": {
      "text/plain": [
       "<scipy.stats.kde.gaussian_kde at 0x7f9a24ca70d0>"
      ]
     },
     "execution_count": 15,
     "metadata": {},
     "output_type": "execute_result"
    }
   ],
   "source": [
    "density"
   ]
  },
  {
   "cell_type": "markdown",
   "metadata": {
    "id": "lMqJh_nSNRUS"
   },
   "source": [
    "## Основные дескриптивные статистики"
   ]
  },
  {
   "cell_type": "code",
   "execution_count": null,
   "metadata": {
    "colab": {
     "base_uri": "https://localhost:8080/"
    },
    "id": "rB-k9599NBWV",
    "outputId": "9fa291c0-510c-48fa-8764-07d8bea013d2"
   },
   "outputs": [
    {
     "data": {
      "text/html": [
       "\n",
       "  <div id=\"df-df45a5b2-6b75-4e54-b4ee-613a2351376f\">\n",
       "    <div class=\"colab-df-container\">\n",
       "      <div>\n",
       "<style scoped>\n",
       "    .dataframe tbody tr th:only-of-type {\n",
       "        vertical-align: middle;\n",
       "    }\n",
       "\n",
       "    .dataframe tbody tr th {\n",
       "        vertical-align: top;\n",
       "    }\n",
       "\n",
       "    .dataframe thead th {\n",
       "        text-align: right;\n",
       "    }\n",
       "</style>\n",
       "<table border=\"1\" class=\"dataframe\">\n",
       "  <thead>\n",
       "    <tr style=\"text-align: right;\">\n",
       "      <th></th>\n",
       "      <th>ID</th>\n",
       "      <th>Age</th>\n",
       "      <th>Height</th>\n",
       "      <th>Weight</th>\n",
       "      <th>Year</th>\n",
       "    </tr>\n",
       "  </thead>\n",
       "  <tbody>\n",
       "    <tr>\n",
       "      <th>count</th>\n",
       "      <td>271116.000000</td>\n",
       "      <td>261642.000000</td>\n",
       "      <td>210945.000000</td>\n",
       "      <td>208241.000000</td>\n",
       "      <td>271116.000000</td>\n",
       "    </tr>\n",
       "    <tr>\n",
       "      <th>mean</th>\n",
       "      <td>68248.954396</td>\n",
       "      <td>25.556898</td>\n",
       "      <td>175.338970</td>\n",
       "      <td>70.702393</td>\n",
       "      <td>1978.378480</td>\n",
       "    </tr>\n",
       "    <tr>\n",
       "      <th>std</th>\n",
       "      <td>39022.286345</td>\n",
       "      <td>6.393561</td>\n",
       "      <td>10.518462</td>\n",
       "      <td>14.348020</td>\n",
       "      <td>29.877632</td>\n",
       "    </tr>\n",
       "    <tr>\n",
       "      <th>min</th>\n",
       "      <td>1.000000</td>\n",
       "      <td>10.000000</td>\n",
       "      <td>127.000000</td>\n",
       "      <td>25.000000</td>\n",
       "      <td>1896.000000</td>\n",
       "    </tr>\n",
       "    <tr>\n",
       "      <th>25%</th>\n",
       "      <td>34643.000000</td>\n",
       "      <td>21.000000</td>\n",
       "      <td>168.000000</td>\n",
       "      <td>60.000000</td>\n",
       "      <td>1960.000000</td>\n",
       "    </tr>\n",
       "    <tr>\n",
       "      <th>50%</th>\n",
       "      <td>68205.000000</td>\n",
       "      <td>24.000000</td>\n",
       "      <td>175.000000</td>\n",
       "      <td>70.000000</td>\n",
       "      <td>1988.000000</td>\n",
       "    </tr>\n",
       "    <tr>\n",
       "      <th>75%</th>\n",
       "      <td>102097.250000</td>\n",
       "      <td>28.000000</td>\n",
       "      <td>183.000000</td>\n",
       "      <td>79.000000</td>\n",
       "      <td>2002.000000</td>\n",
       "    </tr>\n",
       "    <tr>\n",
       "      <th>max</th>\n",
       "      <td>135571.000000</td>\n",
       "      <td>97.000000</td>\n",
       "      <td>226.000000</td>\n",
       "      <td>214.000000</td>\n",
       "      <td>2016.000000</td>\n",
       "    </tr>\n",
       "  </tbody>\n",
       "</table>\n",
       "</div>\n",
       "      <button class=\"colab-df-convert\" onclick=\"convertToInteractive('df-df45a5b2-6b75-4e54-b4ee-613a2351376f')\"\n",
       "              title=\"Convert this dataframe to an interactive table.\"\n",
       "              style=\"display:none;\">\n",
       "        \n",
       "  <svg xmlns=\"http://www.w3.org/2000/svg\" height=\"24px\"viewBox=\"0 0 24 24\"\n",
       "       width=\"24px\">\n",
       "    <path d=\"M0 0h24v24H0V0z\" fill=\"none\"/>\n",
       "    <path d=\"M18.56 5.44l.94 2.06.94-2.06 2.06-.94-2.06-.94-.94-2.06-.94 2.06-2.06.94zm-11 1L8.5 8.5l.94-2.06 2.06-.94-2.06-.94L8.5 2.5l-.94 2.06-2.06.94zm10 10l.94 2.06.94-2.06 2.06-.94-2.06-.94-.94-2.06-.94 2.06-2.06.94z\"/><path d=\"M17.41 7.96l-1.37-1.37c-.4-.4-.92-.59-1.43-.59-.52 0-1.04.2-1.43.59L10.3 9.45l-7.72 7.72c-.78.78-.78 2.05 0 2.83L4 21.41c.39.39.9.59 1.41.59.51 0 1.02-.2 1.41-.59l7.78-7.78 2.81-2.81c.8-.78.8-2.07 0-2.86zM5.41 20L4 18.59l7.72-7.72 1.47 1.35L5.41 20z\"/>\n",
       "  </svg>\n",
       "      </button>\n",
       "      \n",
       "  <style>\n",
       "    .colab-df-container {\n",
       "      display:flex;\n",
       "      flex-wrap:wrap;\n",
       "      gap: 12px;\n",
       "    }\n",
       "\n",
       "    .colab-df-convert {\n",
       "      background-color: #E8F0FE;\n",
       "      border: none;\n",
       "      border-radius: 50%;\n",
       "      cursor: pointer;\n",
       "      display: none;\n",
       "      fill: #1967D2;\n",
       "      height: 32px;\n",
       "      padding: 0 0 0 0;\n",
       "      width: 32px;\n",
       "    }\n",
       "\n",
       "    .colab-df-convert:hover {\n",
       "      background-color: #E2EBFA;\n",
       "      box-shadow: 0px 1px 2px rgba(60, 64, 67, 0.3), 0px 1px 3px 1px rgba(60, 64, 67, 0.15);\n",
       "      fill: #174EA6;\n",
       "    }\n",
       "\n",
       "    [theme=dark] .colab-df-convert {\n",
       "      background-color: #3B4455;\n",
       "      fill: #D2E3FC;\n",
       "    }\n",
       "\n",
       "    [theme=dark] .colab-df-convert:hover {\n",
       "      background-color: #434B5C;\n",
       "      box-shadow: 0px 1px 3px 1px rgba(0, 0, 0, 0.15);\n",
       "      filter: drop-shadow(0px 1px 2px rgba(0, 0, 0, 0.3));\n",
       "      fill: #FFFFFF;\n",
       "    }\n",
       "  </style>\n",
       "\n",
       "      <script>\n",
       "        const buttonEl =\n",
       "          document.querySelector('#df-df45a5b2-6b75-4e54-b4ee-613a2351376f button.colab-df-convert');\n",
       "        buttonEl.style.display =\n",
       "          google.colab.kernel.accessAllowed ? 'block' : 'none';\n",
       "\n",
       "        async function convertToInteractive(key) {\n",
       "          const element = document.querySelector('#df-df45a5b2-6b75-4e54-b4ee-613a2351376f');\n",
       "          const dataTable =\n",
       "            await google.colab.kernel.invokeFunction('convertToInteractive',\n",
       "                                                     [key], {});\n",
       "          if (!dataTable) return;\n",
       "\n",
       "          const docLinkHtml = 'Like what you see? Visit the ' +\n",
       "            '<a target=\"_blank\" href=https://colab.research.google.com/notebooks/data_table.ipynb>data table notebook</a>'\n",
       "            + ' to learn more about interactive tables.';\n",
       "          element.innerHTML = '';\n",
       "          dataTable['output_type'] = 'display_data';\n",
       "          await google.colab.output.renderOutput(dataTable, element);\n",
       "          const docLink = document.createElement('div');\n",
       "          docLink.innerHTML = docLinkHtml;\n",
       "          element.appendChild(docLink);\n",
       "        }\n",
       "      </script>\n",
       "    </div>\n",
       "  </div>\n",
       "  "
      ],
      "text/plain": [
       "                  ID            Age         Height         Weight  \\\n",
       "count  271116.000000  261642.000000  210945.000000  208241.000000   \n",
       "mean    68248.954396      25.556898     175.338970      70.702393   \n",
       "std     39022.286345       6.393561      10.518462      14.348020   \n",
       "min         1.000000      10.000000     127.000000      25.000000   \n",
       "25%     34643.000000      21.000000     168.000000      60.000000   \n",
       "50%     68205.000000      24.000000     175.000000      70.000000   \n",
       "75%    102097.250000      28.000000     183.000000      79.000000   \n",
       "max    135571.000000      97.000000     226.000000     214.000000   \n",
       "\n",
       "                Year  \n",
       "count  271116.000000  \n",
       "mean     1978.378480  \n",
       "std        29.877632  \n",
       "min      1896.000000  \n",
       "25%      1960.000000  \n",
       "50%      1988.000000  \n",
       "75%      2002.000000  \n",
       "max      2016.000000  "
      ]
     },
     "execution_count": 6,
     "metadata": {},
     "output_type": "execute_result"
    }
   ],
   "source": [
    "df.describe()"
   ]
  },
  {
   "cell_type": "code",
   "execution_count": null,
   "metadata": {
    "colab": {
     "base_uri": "https://localhost:8080/"
    },
    "id": "4P2ZRosINhhA",
    "outputId": "9edfbff0-ee80-45b6-9dfd-cb085fa0bad2"
   },
   "outputs": [
    {
     "data": {
      "image/png": "[encoded data removed]",
      "text/plain": [
       "<Figure size 432x288 with 2 Axes>"
      ]
     },
     "metadata": {
      "needs_background": "light"
     },
     "output_type": "display_data"
    }
   ],
   "source": [
    "fig, ax = plt.subplots(2, 1)\n",
    "\n",
    "ax[0].hist(df['Height'], bins = 30);\n",
    "ax[1].boxplot(df['Height'], vert=False);"
   ]
  },
  {
   "cell_type": "markdown",
   "metadata": {
    "id": "yjXAqni6DQcG"
   },
   "source": [
    "### Меры центральной тенденции"
   ]
  },
  {
   "cell_type": "markdown",
   "metadata": {
    "id": "_4FkPH8nDU3_"
   },
   "source": [
    "Среднее"
   ]
  },
  {
   "cell_type": "code",
   "execution_count": null,
   "metadata": {
    "colab": {
     "base_uri": "https://localhost:8080/"
    },
    "id": "bQd1oIqcC2OH",
    "outputId": "fe750822-8cc7-4727-ccaf-84e91ae14b06"
   },
   "outputs": [
    {
     "data": {
      "text/plain": [
       "175.33896987366376"
      ]
     },
     "execution_count": 8,
     "metadata": {},
     "output_type": "execute_result"
    }
   ],
   "source": [
    "df['Height'].mean()"
   ]
  },
  {
   "cell_type": "markdown",
   "metadata": {
    "id": "f8d_h5S-EJPz"
   },
   "source": [
    "Медиана"
   ]
  },
  {
   "cell_type": "code",
   "execution_count": null,
   "metadata": {
    "colab": {
     "base_uri": "https://localhost:8080/"
    },
    "id": "MSJFT_IBEH2R",
    "outputId": "64326baa-57c7-4bf5-a011-eff0acf3f4a3"
   },
   "outputs": [
    {
     "data": {
      "text/plain": [
       "175.0"
      ]
     },
     "execution_count": 9,
     "metadata": {},
     "output_type": "execute_result"
    }
   ],
   "source": [
    "df['Height'].median()"
   ]
  },
  {
   "cell_type": "markdown",
   "metadata": {
    "id": "pFoHR4c0EObm"
   },
   "source": [
    "Мода"
   ]
  },
  {
   "cell_type": "code",
   "execution_count": null,
   "metadata": {
    "colab": {
     "base_uri": "https://localhost:8080/"
    },
    "id": "zTt1A7t3EG6Y",
    "outputId": "bba013cc-a46f-4cff-8844-8e9095554022"
   },
   "outputs": [
    {
     "data": {
      "text/plain": [
       "180.0"
      ]
     },
     "execution_count": 20,
     "metadata": {},
     "output_type": "execute_result"
    }
   ],
   "source": [
    "df['Height'].mode()[0]"
   ]
  },
  {
   "cell_type": "code",
   "execution_count": null,
   "metadata": {
    "colab": {
     "base_uri": "https://localhost:8080/"
    },
    "id": "lIq30jy8ETZl",
    "outputId": "530250e1-3ae8-4630-bfa5-1825e5e77d12"
   },
   "outputs": [
    {
     "data": {
      "text/plain": [
       "<matplotlib.legend.Legend at 0x7fd20832dad0>"
      ]
     },
     "execution_count": 32,
     "metadata": {},
     "output_type": "execute_result"
    },
    {
     "data": {
      "image/png": "[encoded data removed]",
      "text/plain": [
       "<Figure size 432x288 with 1 Axes>"
      ]
     },
     "metadata": {
      "needs_background": "light"
     },
     "output_type": "display_data"
    }
   ],
   "source": [
    "plt.hist(df['Height'], bins = 30)                                     #строим гистограмму\n",
    "plt.axvline(x=df['Height'].mean(), color = 'r', label = 'среднее')    #помещаем на гистограмму среднее\n",
    "plt.axvline(x=df['Height'].median(), color = 'y', label = 'медиана')  #помещаем на гистограмму медиану\n",
    "plt.axvline(x=df['Height'].mode()[0], color = 'g', label = 'мода') #помещаем на гистограмму моду\n",
    "plt.legend()"
   ]
  },
  {
   "cell_type": "code",
   "execution_count": null,
   "metadata": {
    "colab": {
     "base_uri": "https://localhost:8080/"
    },
    "id": "J0Bm2wXfE88L",
    "outputId": "aa54094f-540b-43e2-f409-f30cb5b43bfa"
   },
   "outputs": [
    {
     "data": {
      "text/plain": [
       "<matplotlib.legend.Legend at 0x7fd208241b50>"
      ]
     },
     "execution_count": 28,
     "metadata": {},
     "output_type": "execute_result"
    },
    {
     "data": {
      "image/png": "[encoded data removed]",
      "text/plain": [
       "<Figure size 432x288 with 1 Axes>"
      ]
     },
     "metadata": {
      "needs_background": "light"
     },
     "output_type": "display_data"
    }
   ],
   "source": [
    "plt.hist(df['Weight'], bins = 20) #строим гистограмму\n",
    "plt.axvline(x=df['Weight'].mean(), color = 'r', label = 'среднее')    #помещаем на гистограмму среднее\n",
    "plt.axvline(x=df['Weight'].median(), color = 'y', label = 'медиана')  #помещаем на гистограмму медиану\n",
    "plt.axvline(x=df['Weight'].mode()[0], color = 'g', label = 'мода') #помещаем на гистограмму моду\n",
    "plt.legend()"
   ]
  },
  {
   "cell_type": "markdown",
   "metadata": {
    "id": "QEnD7gRDFsO-"
   },
   "source": [
    "### Меры разброса"
   ]
  },
  {
   "cell_type": "markdown",
   "metadata": {
    "id": "J7YURnfyGCUC"
   },
   "source": [
    "Размах"
   ]
  },
  {
   "cell_type": "code",
   "execution_count": null,
   "metadata": {
    "colab": {
     "base_uri": "https://localhost:8080/"
    },
    "id": "kYxnGFOJESMl",
    "outputId": "bea92cac-5a44-4999-c4aa-1c6d25f28dc4"
   },
   "outputs": [
    {
     "data": {
      "text/plain": [
       "99.0"
      ]
     },
     "execution_count": 13,
     "metadata": {},
     "output_type": "execute_result"
    }
   ],
   "source": [
    "df['Height'].max()-df['Height'].min()"
   ]
  },
  {
   "cell_type": "markdown",
   "metadata": {
    "id": "0Kfr2y2EGR0_"
   },
   "source": [
    "Дисперсия"
   ]
  },
  {
   "cell_type": "code",
   "execution_count": null,
   "metadata": {
    "colab": {
     "base_uri": "https://localhost:8080/"
    },
    "id": "yYf6WBT2GOVy",
    "outputId": "703160eb-929f-4d47-c5ea-d3ec329b0690"
   },
   "outputs": [
    {
     "data": {
      "text/plain": [
       "110.63752304227901"
      ]
     },
     "execution_count": 14,
     "metadata": {},
     "output_type": "execute_result"
    }
   ],
   "source": [
    "df['Height'].var(ddof=0) #выборочная дисперсия"
   ]
  },
  {
   "cell_type": "code",
   "execution_count": null,
   "metadata": {
    "colab": {
     "base_uri": "https://localhost:8080/"
    },
    "id": "4F_Rgo_JGc63",
    "outputId": "209de01a-9a7e-4a6d-fdee-aea8449cf57d"
   },
   "outputs": [
    {
     "data": {
      "text/plain": [
       "110.63804752992996"
      ]
     },
     "execution_count": 15,
     "metadata": {},
     "output_type": "execute_result"
    }
   ],
   "source": [
    "df['Height'].var() #несмещенная выборочная дисперсия"
   ]
  },
  {
   "cell_type": "markdown",
   "metadata": {
    "id": "3JcEul4cIyXV"
   },
   "source": [
    "Стандартное отклонение"
   ]
  },
  {
   "cell_type": "code",
   "execution_count": null,
   "metadata": {
    "colab": {
     "base_uri": "https://localhost:8080/"
    },
    "id": "LIx_ifKkI1PE",
    "outputId": "ff120cdc-933f-423b-a22e-f50623da6bbf"
   },
   "outputs": [
    {
     "data": {
      "text/plain": [
       "10.518437290884945"
      ]
     },
     "execution_count": 16,
     "metadata": {},
     "output_type": "execute_result"
    }
   ],
   "source": [
    "df['Height'].std(ddof=0) #выборочное стандартное отклонение"
   ]
  },
  {
   "cell_type": "code",
   "execution_count": null,
   "metadata": {
    "colab": {
     "base_uri": "https://localhost:8080/"
    },
    "id": "-p_PgFe6I8tS",
    "outputId": "44edeb07-5250-4db3-f8b7-ec7e357b35dd"
   },
   "outputs": [
    {
     "data": {
      "text/plain": [
       "10.518462222679224"
      ]
     },
     "execution_count": 17,
     "metadata": {},
     "output_type": "execute_result"
    }
   ],
   "source": [
    "df['Height'].std() #несмещенное стандартное отклонение"
   ]
  },
  {
   "cell_type": "markdown",
   "metadata": {
    "id": "ZUAb-zmgJMD5"
   },
   "source": [
    "Персентиль/квартиль"
   ]
  },
  {
   "cell_type": "markdown",
   "metadata": {
    "id": "MVn3IZXbJ5M6"
   },
   "source": [
    "*Первый (нижний квартиль):*"
   ]
  },
  {
   "cell_type": "code",
   "execution_count": null,
   "metadata": {
    "colab": {
     "base_uri": "https://localhost:8080/"
    },
    "id": "XQBwsCWgJzyC",
    "outputId": "e835496b-9311-494c-e474-aca421515b6c"
   },
   "outputs": [
    {
     "data": {
      "text/plain": [
       "170.0"
      ]
     },
     "execution_count": 33,
     "metadata": {},
     "output_type": "execute_result"
    }
   ],
   "source": [
    "np.percentile(df['Height'], 25)"
   ]
  },
  {
   "cell_type": "code",
   "execution_count": null,
   "metadata": {
    "colab": {
     "base_uri": "https://localhost:8080/"
    },
    "id": "ZLoD80cwJLIx",
    "outputId": "c3b15488-ed0d-4326-a8c5-3b890d216f2d"
   },
   "outputs": [
    {
     "data": {
      "text/plain": [
       "170.0"
      ]
     },
     "execution_count": 34,
     "metadata": {},
     "output_type": "execute_result"
    }
   ],
   "source": [
    "np.quantile(df['Height'], 0.25)"
   ]
  },
  {
   "cell_type": "code",
   "execution_count": null,
   "metadata": {
    "colab": {
     "base_uri": "https://localhost:8080/"
    },
    "id": "UChLYNkFJ_Z5",
    "outputId": "34a3eb21-1544-4e5b-b7ff-643f2e379fc4"
   },
   "outputs": [
    {
     "data": {
      "text/plain": [
       "170.0"
      ]
     },
     "execution_count": 35,
     "metadata": {},
     "output_type": "execute_result"
    }
   ],
   "source": [
    "df['Height'].quantile(0.25)"
   ]
  },
  {
   "cell_type": "markdown",
   "metadata": {
    "id": "uwacizKMKPp8"
   },
   "source": [
    "*Второй (медиана):*"
   ]
  },
  {
   "cell_type": "code",
   "execution_count": null,
   "metadata": {
    "colab": {
     "base_uri": "https://localhost:8080/"
    },
    "id": "6pbLnJesKMaS",
    "outputId": "e5514d0a-c857-4960-bd58-aa506bc019b1"
   },
   "outputs": [
    {
     "data": {
      "text/plain": [
       "178.0"
      ]
     },
     "execution_count": 36,
     "metadata": {},
     "output_type": "execute_result"
    }
   ],
   "source": [
    "df['Height'].quantile(0.5)"
   ]
  },
  {
   "cell_type": "code",
   "execution_count": null,
   "metadata": {
    "colab": {
     "base_uri": "https://localhost:8080/"
    },
    "id": "nXsZE6QBKjiW",
    "outputId": "f2f126be-7cd0-4211-c2ee-226742c67029"
   },
   "outputs": [
    {
     "data": {
      "text/plain": [
       "178.0"
      ]
     },
     "execution_count": 37,
     "metadata": {},
     "output_type": "execute_result"
    }
   ],
   "source": [
    "df['Height'].median()"
   ]
  },
  {
   "cell_type": "markdown",
   "metadata": {
    "id": "oGaYyQFeKpYW"
   },
   "source": [
    "*Третий (верхний квартиль):*"
   ]
  },
  {
   "cell_type": "code",
   "execution_count": null,
   "metadata": {
    "colab": {
     "base_uri": "https://localhost:8080/"
    },
    "id": "gBhXd7IjKg6W",
    "outputId": "11c57718-46ea-4e94-f088-84ced81ac90c"
   },
   "outputs": [
    {
     "data": {
      "text/plain": [
       "185.0"
      ]
     },
     "execution_count": 38,
     "metadata": {},
     "output_type": "execute_result"
    }
   ],
   "source": [
    "df['Height'].quantile(0.75)"
   ]
  },
  {
   "cell_type": "code",
   "execution_count": null,
   "metadata": {
    "colab": {
     "base_uri": "https://localhost:8080/"
    },
    "id": "cIPcGxM0K22T",
    "outputId": "9dceead6-6098-49a1-9662-018e44fef393"
   },
   "outputs": [
    {
     "data": {
      "text/plain": [
       "<matplotlib.legend.Legend at 0x7fd208377ed0>"
      ]
     },
     "execution_count": 39,
     "metadata": {},
     "output_type": "execute_result"
    },
    {
     "data": {
      "image/png": "[encoded data removed]",
      "text/plain": [
       "<Figure size 432x288 with 1 Axes>"
      ]
     },
     "metadata": {
      "needs_background": "light"
     },
     "output_type": "display_data"
    }
   ],
   "source": [
    "plt.hist(df['Height'], bins = 30)                                          #строим гистограмму\n",
    "plt.axvline(x=df['Height'].quantile(0.25), color = 'r', label = 'Q1') #Q1\n",
    "plt.axvline(x=df['Height'].quantile(0.5), color = 'y', label = 'Q2')  #Q2\n",
    "plt.axvline(x=df['Height'].quantile(0.75), color = 'g', label = 'Q3') #Q3\n",
    "plt.legend()"
   ]
  },
  {
   "cell_type": "markdown",
   "metadata": {
    "id": "42edsGTOMN2_"
   },
   "source": [
    "Интеркваритильное расстояние"
   ]
  },
  {
   "cell_type": "code",
   "execution_count": null,
   "metadata": {
    "colab": {
     "base_uri": "https://localhost:8080/"
    },
    "id": "B-aw8Xs4MXCK",
    "outputId": "c29450b4-3a08-487e-b799-688f3a04664d"
   },
   "outputs": [
    {
     "data": {
      "text/plain": [
       "15.0"
      ]
     },
     "execution_count": 35,
     "metadata": {},
     "output_type": "execute_result"
    }
   ],
   "source": [
    "df['Height'].quantile(0.75)-df['Height'].quantile(0.25)"
   ]
  },
  {
   "cell_type": "markdown",
   "metadata": {
    "id": "1CvWwentVg7c"
   },
   "source": [
    "## Нормальное распределение"
   ]
  },
  {
   "cell_type": "markdown",
   "metadata": {
    "id": "7FU29ZaofWzo"
   },
   "source": [
    "### Генерируем нормальное распределение"
   ]
  },
  {
   "cell_type": "markdown",
   "metadata": {
    "id": "wpqN-s1AWGtI"
   },
   "source": [
    "Функция плотности нормального распределения: "
   ]
  },
  {
   "cell_type": "markdown",
   "metadata": {
    "id": "_numm46fWFWs"
   },
   "source": [
    "$$\n",
    "f(x) = \\frac{1}{\\sigma \\sqrt{2 \\pi}} \\cdot  e^{-\\frac{(x - \\mu)^2}{2 \\sigma^2}}\n",
    "$$"
   ]
  },
  {
   "cell_type": "code",
   "execution_count": null,
   "metadata": {
    "id": "mbgZ431uVkX9"
   },
   "outputs": [],
   "source": [
    "from scipy import stats\n",
    "\n",
    "norm_rv = stats.norm(loc=0, scale=1)  # создали генеральную совокупность  "
   ]
  },
  {
   "cell_type": "markdown",
   "metadata": {
    "id": "w0q8cQpiWQtz"
   },
   "source": [
    "```loc``` - $\\mu$, \n",
    "\n",
    "```scale``` — среднеквадратичное отклонение $\\sigma$."
   ]
  },
  {
   "cell_type": "markdown",
   "metadata": {
    "id": "6RmEcIkXWgEK"
   },
   "source": [
    "Когда конкретный генератор готов, у него можно вызывать разные методы: \n",
    "\n",
    "* `rvs` сгенерирует нам выборку из распределения объёма `size`\n",
    "* `cdf` вычислит для нас значение функции распределения (cumulative distribution function) в указанной точке\n",
    "* `pdf` вычислит значение плотности распредеелния (probability density function) в указанной точке \n",
    "* `ppf` вычислит квантиль, указанного уровня\n",
    "\n",
    "[В документации](https://docs.scipy.org/doc/scipy-0.14.0/reference/stats.html) можно найти и другие методы, но мы с ними практически не будем встречаться в течение нашего курса (см. разел statistical functions)."
   ]
  },
  {
   "cell_type": "code",
   "execution_count": null,
   "metadata": {
    "colab": {
     "base_uri": "https://localhost:8080/"
    },
    "id": "o_fKaPG9Gcit",
    "outputId": "38eae01a-3bfc-4794-b4c0-62e4885f1a03"
   },
   "outputs": [
    {
     "data": {
      "text/plain": [
       "array([-0.58500501,  0.99531639, -0.65046661, -0.99245706, -0.49615431,\n",
       "       -0.39066329, -1.39305244,  0.09914533,  0.70404813,  0.59472871])"
      ]
     },
     "execution_count": 22,
     "metadata": {},
     "output_type": "execute_result"
    }
   ],
   "source": [
    "sample = norm_rv.rvs(1000)  #собрали из нее случайную выборку\n",
    "sample[:10]"
   ]
  },
  {
   "cell_type": "code",
   "execution_count": null,
   "metadata": {
    "colab": {
     "base_uri": "https://localhost:8080/"
    },
    "id": "EMwzTcuLGciu",
    "outputId": "454b08af-24b4-420e-ab6a-c2a0e7f74c45"
   },
   "outputs": [
    {
     "data": {
      "text/plain": [
       "(1000,)"
      ]
     },
     "execution_count": 23,
     "metadata": {},
     "output_type": "execute_result"
    }
   ],
   "source": [
    "sample.shape"
   ]
  },
  {
   "cell_type": "code",
   "execution_count": null,
   "metadata": {
    "colab": {
     "base_uri": "https://localhost:8080/"
    },
    "id": "i9jJ25zJGciu",
    "outputId": "e09c4594-c12a-4ee5-9a4e-f1ed376c77d7"
   },
   "outputs": [
    {
     "data": {
      "text/plain": [
       "0.009637838945821167"
      ]
     },
     "execution_count": 24,
     "metadata": {},
     "output_type": "execute_result"
    }
   ],
   "source": [
    "sample.mean()"
   ]
  },
  {
   "cell_type": "code",
   "execution_count": null,
   "metadata": {
    "colab": {
     "base_uri": "https://localhost:8080/"
    },
    "id": "QDqROWQKF52J",
    "outputId": "d934cd16-eebb-44fb-9aaf-bdb15e4f0472"
   },
   "outputs": [
    {
     "data": {
      "text/plain": [
       "0.9826808689204286"
      ]
     },
     "execution_count": 25,
     "metadata": {},
     "output_type": "execute_result"
    }
   ],
   "source": [
    "sample.var()"
   ]
  },
  {
   "cell_type": "code",
   "execution_count": null,
   "metadata": {
    "colab": {
     "base_uri": "https://localhost:8080/"
    },
    "id": "mZCzXimdXArU",
    "outputId": "7b7adc12-3e43-485b-95db-09402ddac068"
   },
   "outputs": [
    {
     "data": {
      "image/png": "[encoded data removed]",
      "text/plain": [
       "<Figure size 432x288 with 1 Axes>"
      ]
     },
     "metadata": {
      "needs_background": "light"
     },
     "output_type": "display_data"
    }
   ],
   "source": [
    "plt.hist(sample);"
   ]
  },
  {
   "cell_type": "code",
   "execution_count": null,
   "metadata": {
    "colab": {
     "base_uri": "https://localhost:8080/"
    },
    "id": "fN3LICKdxwDq",
    "outputId": "62060ea2-b2f0-49ec-84ea-e50e38a06e44"
   },
   "outputs": [
    {
     "data": {
      "text/plain": [
       "0.09015644933916026"
      ]
     },
     "execution_count": 26,
     "metadata": {},
     "output_type": "execute_result"
    }
   ],
   "source": [
    "from scipy.stats import skew\n",
    "skew(sample, bias=False)           # выборочная ассиметрия"
   ]
  },
  {
   "cell_type": "code",
   "execution_count": null,
   "metadata": {
    "colab": {
     "base_uri": "https://localhost:8080/"
    },
    "id": "W8jjgDG9yfAt",
    "outputId": "e8e47d6f-f536-48c9-ec5e-8686d166ddac"
   },
   "outputs": [
    {
     "data": {
      "text/plain": [
       "0.11449923327856881"
      ]
     },
     "execution_count": 27,
     "metadata": {},
     "output_type": "execute_result"
    }
   ],
   "source": [
    "from scipy.stats import kurtosis\n",
    "kurtosis(sample, axis=0, bias=False) # выборочный эксцесс"
   ]
  },
  {
   "cell_type": "markdown",
   "metadata": {
    "id": "CK6URRW0OiB1"
   },
   "source": [
    "## Выбросы"
   ]
  },
  {
   "cell_type": "markdown",
   "metadata": {
    "id": "uK-CaDLTOmfx"
   },
   "source": [
    "### Метод 1.5*IQR"
   ]
  },
  {
   "cell_type": "code",
   "execution_count": null,
   "metadata": {
    "colab": {
     "base_uri": "https://localhost:8080/"
    },
    "id": "6A6ZFz7lOxvj",
    "outputId": "9226e100-0cce-4668-9f1e-fe443e40b506"
   },
   "outputs": [
    {
     "data": {
      "image/png": "[encoded data removed]",
      "text/plain": [
       "<Figure size 432x288 with 2 Axes>"
      ]
     },
     "metadata": {
      "needs_background": "light"
     },
     "output_type": "display_data"
    }
   ],
   "source": [
    "fig, ax = plt.subplots(2, 1)\n",
    "\n",
    "ax[0].hist(df['Height'], bins = 30);\n",
    "ax[1].boxplot(df['Height'], vert=False);"
   ]
  },
  {
   "cell_type": "code",
   "execution_count": null,
   "metadata": {
    "colab": {
     "base_uri": "https://localhost:8080/"
    },
    "id": "NqooL_k3Oj6D",
    "outputId": "41424ef4-aa8c-4e9d-9d91-0f257e2ef67d"
   },
   "outputs": [
    {
     "data": {
      "text/plain": [
       "170.0"
      ]
     },
     "execution_count": 74,
     "metadata": {},
     "output_type": "execute_result"
    }
   ],
   "source": [
    "q1 = df['Height'].quantile(0.25) #первый квартиль\n",
    "q1"
   ]
  },
  {
   "cell_type": "code",
   "execution_count": null,
   "metadata": {
    "colab": {
     "base_uri": "https://localhost:8080/"
    },
    "id": "TFuRngddPSIe",
    "outputId": "50247f84-2e98-46c7-a3de-5e41d7f6ea41"
   },
   "outputs": [
    {
     "data": {
      "text/plain": [
       "185.0"
      ]
     },
     "execution_count": 75,
     "metadata": {},
     "output_type": "execute_result"
    }
   ],
   "source": [
    "q3 = df['Height'].quantile(0.75) #третий квартиль\n",
    "q3"
   ]
  },
  {
   "cell_type": "code",
   "execution_count": null,
   "metadata": {
    "colab": {
     "base_uri": "https://localhost:8080/"
    },
    "id": "UyzVrlWLPVRl",
    "outputId": "163a1222-6d87-402e-a86e-9456a9e86946"
   },
   "outputs": [
    {
     "data": {
      "text/plain": [
       "15.0"
      ]
     },
     "execution_count": 76,
     "metadata": {},
     "output_type": "execute_result"
    }
   ],
   "source": [
    "iqr = q3-q1\n",
    "iqr"
   ]
  },
  {
   "cell_type": "code",
   "execution_count": null,
   "metadata": {
    "colab": {
     "base_uri": "https://localhost:8080/"
    },
    "id": "vEL94z8CPZKv",
    "outputId": "f4f8f482-3be8-4b94-a26e-bb884b4d139b"
   },
   "outputs": [
    {
     "data": {
      "text/plain": [
       "147.5"
      ]
     },
     "execution_count": 77,
     "metadata": {},
     "output_type": "execute_result"
    }
   ],
   "source": [
    "low1 = q1 - 1.5*iqr\n",
    "low1"
   ]
  },
  {
   "cell_type": "code",
   "execution_count": null,
   "metadata": {
    "colab": {
     "base_uri": "https://localhost:8080/"
    },
    "id": "ylIw7IGWPlr0",
    "outputId": "6f012431-1a04-4b90-8762-a0ca2aa6ca18"
   },
   "outputs": [
    {
     "data": {
      "text/plain": [
       "207.5"
      ]
     },
     "execution_count": 78,
     "metadata": {},
     "output_type": "execute_result"
    }
   ],
   "source": [
    "up1 = q3 + 1.5*iqr\n",
    "up1"
   ]
  },
  {
   "cell_type": "code",
   "execution_count": null,
   "metadata": {
    "colab": {
     "base_uri": "https://localhost:8080/"
    },
    "id": "eymDS-f7Pq2u",
    "outputId": "5edef15b-a980-4947-c8fb-6d0c96b7126c"
   },
   "outputs": [
    {
     "data": {
      "image/png": "[encoded data removed]",
      "text/plain": [
       "<Figure size 432x288 with 2 Axes>"
      ]
     },
     "metadata": {
      "needs_background": "light"
     },
     "output_type": "display_data"
    }
   ],
   "source": [
    "fig, ax = plt.subplots(2, 1)\n",
    "\n",
    "ax[0].hist(df['Height'], bins = 20)                               #строим гистограмму\n",
    "ax[0].axvline(x=low1, color = 'r', label = 'Q1-1.5*IQR')          #помещаем на гистограмму Q1-1.5*IQR\n",
    "ax[0].axvline(x=up1, color = 'y', label = 'Q3+1.5*IQR')           #помещаем на гистограмму Q3+1.5*IQR\n",
    "ax[0].legend();\n",
    "\n",
    "ax[1].boxplot(df['Height'], vert=False);"
   ]
  },
  {
   "cell_type": "code",
   "execution_count": null,
   "metadata": {
    "colab": {
     "base_uri": "https://localhost:8080/"
    },
    "id": "c3RXltgZQNP3",
    "outputId": "2d374c93-13f5-4463-fcc7-49dc7aa087c9"
   },
   "outputs": [
    {
     "data": {
      "text/plain": [
       "<matplotlib.axes._subplots.AxesSubplot at 0x7fd208643c50>"
      ]
     },
     "execution_count": 82,
     "metadata": {},
     "output_type": "execute_result"
    },
    {
     "data": {
      "image/png": "[encoded data removed]",
      "text/plain": [
       "<Figure size 432x288 with 1 Axes>"
      ]
     },
     "metadata": {
      "needs_background": "light"
     },
     "output_type": "display_data"
    }
   ],
   "source": [
    "df[(df['Height']>=low1) & (df['Height']<=up1)].Height.hist()"
   ]
  },
  {
   "cell_type": "code",
   "execution_count": null,
   "metadata": {
    "colab": {
     "base_uri": "https://localhost:8080/"
    },
    "id": "ZOxYSd6mQ6ik",
    "outputId": "5413369c-7b6c-4e61-fd75-199d9e1a772d"
   },
   "outputs": [
    {
     "data": {
      "image/png": "[encoded data removed]",
      "text/plain": [
       "<Figure size 432x288 with 2 Axes>"
      ]
     },
     "metadata": {
      "needs_background": "light"
     },
     "output_type": "display_data"
    }
   ],
   "source": [
    "fig, ax = plt.subplots(2, 1)\n",
    "\n",
    "ax[0].hist(df[(df['Height']>=low1) & (df['Height']<=up1)].Height, bins = 20);\n",
    "ax[1].boxplot(df[(df['Height']>=low1) & (df['Height']<=up1)].Height, vert=False);"
   ]
  },
  {
   "cell_type": "markdown",
   "metadata": {
    "id": "yd44XjmNziE0"
   },
   "source": [
    "### std"
   ]
  },
  {
   "cell_type": "markdown",
   "metadata": {
    "id": "37xbJdmU0BkG"
   },
   "source": [
    "![image.png](data:image/png;base64,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)"
   ]
  },
  {
   "cell_type": "code",
   "execution_count": null,
   "metadata": {
    "colab": {
     "base_uri": "https://localhost:8080/"
    },
    "id": "wFl7gO5oe8NM",
    "outputId": "dec8d12d-e0d7-4d7f-915c-bc786b996ac0"
   },
   "outputs": [
    {
     "data": {
      "text/plain": [
       "10.924188435281636"
      ]
     },
     "execution_count": 95,
     "metadata": {},
     "output_type": "execute_result"
    }
   ],
   "source": [
    "std = df['Height'].std()\n",
    "std"
   ]
  },
  {
   "cell_type": "code",
   "execution_count": null,
   "metadata": {
    "colab": {
     "base_uri": "https://localhost:8080/"
    },
    "id": "PspMDSptzrJx",
    "outputId": "2a741fb3-1c74-4b06-8db7-bbab9d22b754"
   },
   "outputs": [
    {
     "data": {
      "text/plain": [
       "177.64235777475895"
      ]
     },
     "execution_count": 96,
     "metadata": {},
     "output_type": "execute_result"
    }
   ],
   "source": [
    "avg = df['Height'].mean()\n",
    "avg"
   ]
  },
  {
   "cell_type": "code",
   "execution_count": null,
   "metadata": {
    "colab": {
     "base_uri": "https://localhost:8080/"
    },
    "id": "KSdI3xKh0LCm",
    "outputId": "e8bcd6f9-6b81-4e25-d81a-49c87592bd95"
   },
   "outputs": [
    {
     "data": {
      "text/plain": [
       "166.7181693394773"
      ]
     },
     "execution_count": 97,
     "metadata": {},
     "output_type": "execute_result"
    }
   ],
   "source": [
    "low2 = avg-std\n",
    "low2"
   ]
  },
  {
   "cell_type": "code",
   "execution_count": null,
   "metadata": {
    "colab": {
     "base_uri": "https://localhost:8080/"
    },
    "id": "ITCR6iu10R03",
    "outputId": "c2afbbef-0548-4abc-b219-990af3e773e9"
   },
   "outputs": [
    {
     "data": {
      "text/plain": [
       "188.5665462100406"
      ]
     },
     "execution_count": 98,
     "metadata": {},
     "output_type": "execute_result"
    }
   ],
   "source": [
    "up2 = avg+std\n",
    "up2"
   ]
  },
  {
   "cell_type": "code",
   "execution_count": null,
   "metadata": {
    "colab": {
     "base_uri": "https://localhost:8080/"
    },
    "id": "DFyJbG-Q0W1B",
    "outputId": "80effe98-97b6-4169-b578-d2055b52bbf6"
   },
   "outputs": [
    {
     "data": {
      "image/png": "[encoded data removed]",
      "text/plain": [
       "<Figure size 432x288 with 1 Axes>"
      ]
     },
     "metadata": {
      "needs_background": "light"
     },
     "output_type": "display_data"
    }
   ],
   "source": [
    "plt.hist(df['Height'], bins = 20)                              #строим гистограмму\n",
    "plt.axvline(x=avg, color = 'r', label = 'среднее (avg)')       #помещаем на среднее\n",
    "plt.axvline(x=low2, color = 'black', label = 'low2')           #помещаем на гистограмму нижнюю границу\n",
    "plt.axvline(x=up2, color = 'black', label = 'up2')            #помещаем на гистограмму верхнюю границу\n",
    "\n",
    "plt.legend();"
   ]
  }
 ],
 "metadata": {
  "colab": {
   "provenance": [],
   "toc_visible": true
  },
  "kernelspec": {
   "display_name": "Python 3 (ipykernel)",
   "language": "python",
   "name": "python3"
  },
  "language_info": {
   "codemirror_mode": {
    "name": "ipython",
    "version": 3
   },
   "file_extension": ".py",
   "mimetype": "text/x-python",
   "name": "python",
   "nbconvert_exporter": "python",
   "pygments_lexer": "ipython3",
   "version": "3.9.12"
  }
 },
 "nbformat": 4,
 "nbformat_minor": 1
}
